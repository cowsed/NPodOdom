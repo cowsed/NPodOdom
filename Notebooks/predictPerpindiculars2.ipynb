{
 "cells": [
  {
   "cell_type": "markdown",
   "metadata": {},
   "source": [
    "# Predicting Perpindiculars\n",
    "\n",
    "## Setup"
   ]
  },
  {
   "cell_type": "code",
   "execution_count": 1,
   "metadata": {},
   "outputs": [],
   "source": [
    "from collections import namedtuple\n",
    "import sympy\n",
    "from sympy import Matrix, det, symbols, sin, cos, pi\n",
    "from sympy.physics.units import speed_of_light, meter, second, convert_to, radian\n",
    "import IPython.display"
   ]
  },
  {
   "cell_type": "code",
   "execution_count": 2,
   "metadata": {},
   "outputs": [],
   "source": [
    "TrackingWheelCfg = namedtuple('TrackingWheelCfg', ['p', 'theta_rad', 'radius'])\n",
    "\n",
    "Twist = namedtuple(\"Twist\", [\"dx\", \"dy\", \"dtheta\"])\n",
    "Pose = namedtuple(\"Pose\", [\"x\", \"y\", \"theta\"])"
   ]
  },
  {
   "cell_type": "code",
   "execution_count": 3,
   "metadata": {},
   "outputs": [],
   "source": [
    "e_x = Matrix([[1],[0]])\n",
    "e_y = Matrix([[0],[1]])"
   ]
  },
  {
   "cell_type": "code",
   "execution_count": 4,
   "metadata": {},
   "outputs": [],
   "source": [
    "def rotation_matrix2d(theta) -> Matrix:\n",
    "    return Matrix([[cos(theta), -sin(theta)],[sin(theta), cos(theta)]])\n",
    "    "
   ]
  },
  {
   "cell_type": "markdown",
   "metadata": {},
   "source": [
    "# Problem\n",
    "\n",
    "Given Pod Positions $\\set{P_1, \\cdots, P_n}$ where $P_i = (p_{xi}, p_{yi}, p_{\\theta i})$\n",
    "\n",
    "Imagine the position of a pod on the robot just as a point, not as a wheel\n",
    "\n",
    "Can imagine that each pod has like the optical tracking sensor on it that can show both x and y motion\n",
    "\n",
    "Given a $(\\Delta x, \\Delta y, \\Delta \\theta)$ of the robot frame, that point will an $(x, y)$ delta"
   ]
  },
  {
   "cell_type": "code",
   "execution_count": 5,
   "metadata": {},
   "outputs": [
    {
     "data": {
      "text/latex": [
       "$\\displaystyle \\left[\\begin{matrix}1 & 0 & - p_{y}\\\\0 & 1 & p_{x}\\end{matrix}\\right]$"
      ],
      "text/plain": [
       "Matrix([\n",
       "[1, 0, -p_y],\n",
       "[0, 1,  p_x]])"
      ]
     },
     "execution_count": 5,
     "metadata": {},
     "output_type": "execute_result"
    }
   ],
   "source": [
    "body_twist_to_pod_motion_matrix = Matrix([[1,0,-symbols('p_y')], [0,1,symbols('p_x')]])\n",
    "body_twist_to_pod_motion_matrix"
   ]
  },
  {
   "cell_type": "markdown",
   "metadata": {},
   "source": [
    "Mapping of Robot Motion to sensor Motion `f(robot movement) -> sensor movement`\n",
    "\n",
    "More specifically, the sensor movement output is the vector containing the x component and y component. The sensor at a point will experience rotations of the robot as movements along a circle\n",
    "\n",
    "The x and y components are the identity. If you move the pod forward 1 unit without causing the robot to rotate, the robot will will have moved forward one unit\n",
    "\n",
    "The rotational component is a little trig but im gonna skip that for now bc timelines."
   ]
  },
  {
   "cell_type": "markdown",
   "metadata": {},
   "source": [
    "## Rotated Sensors\n",
    "But, what if our points have a rotation (optical tracking sensor attached at an angle). What we would measure for an x motion for example would register as a y motion if we were rotated by 90 degrees.\n",
    "\n",
    "To account for this, we rotate our measurements by the rotation of the sensor"
   ]
  },
  {
   "cell_type": "code",
   "execution_count": 6,
   "metadata": {},
   "outputs": [
    {
     "data": {
      "text/latex": [
       "$\\displaystyle \\left[\\begin{matrix}\\cos{\\left(p_{\\theta} \\right)} & - \\sin{\\left(p_{\\theta} \\right)} & - p_{x} \\sin{\\left(p_{\\theta} \\right)} - p_{y} \\cos{\\left(p_{\\theta} \\right)}\\\\\\sin{\\left(p_{\\theta} \\right)} & \\cos{\\left(p_{\\theta} \\right)} & p_{x} \\cos{\\left(p_{\\theta} \\right)} - p_{y} \\sin{\\left(p_{\\theta} \\right)}\\end{matrix}\\right]$"
      ],
      "text/plain": [
       "Matrix([\n",
       "[cos(p_\\theta), -sin(p_\\theta), -p_x*sin(p_\\theta) - p_y*cos(p_\\theta)],\n",
       "[sin(p_\\theta),  cos(p_\\theta),  p_x*cos(p_\\theta) - p_y*sin(p_\\theta)]])"
      ]
     },
     "execution_count": 6,
     "metadata": {},
     "output_type": "execute_result"
    }
   ],
   "source": [
    "body_twist_to_pod_wheel_motion_matrix = rotation_matrix2d(symbols('p_\\\\theta')) * body_twist_to_pod_motion_matrix\n",
    "# Vector of [parallel to wheel, perpindicular to wheel]\n",
    "body_twist_to_pod_wheel_motion_matrix"
   ]
  },
  {
   "cell_type": "markdown",
   "metadata": {},
   "source": [
    "This is effectively the same as before but now we can account for sensors that are not mounted perfectly square with the robot coordinate system.\n",
    "\n",
    "Still a mapping from Robot movement to sensor movement: `f(robot movement) -> sensor movement`\n",
    "\n",
    "still the output is the x and y components of the sensors motion.\n"
   ]
  },
  {
   "cell_type": "markdown",
   "metadata": {},
   "source": [
    "### Example\n",
    "if we have three pods $(P_1, P_2, P_3)$, we have a length 6 matrix\n",
    "gonna call this matrix we've been building up $M$ and the robot motion (dx,dy,dtheta) a vector called T\n",
    "\n",
    "output = $$M T = \\begin{bmatrix}x_1 \\\\ y_1 \\\\ x_2 \\\\ y_2 \\\\ x_3 \\\\ y_3\\end{bmatrix}$$\n",
    "\n",
    "where $T = \\begin{bmatrix}d_x \\\\ d_y \\\\ d_\\theta \\end{bmatrix}$\n",
    "\n",
    "and $M$ looks like"
   ]
  },
  {
   "cell_type": "code",
   "execution_count": 7,
   "metadata": {},
   "outputs": [
    {
     "data": {
      "text/latex": [
       "$\\displaystyle \\left[\\begin{matrix}\\cos{\\left(p_{\\theta1} \\right)} & - \\sin{\\left(p_{\\theta1} \\right)} & - p_{x1} \\sin{\\left(p_{\\theta1} \\right)} - p_{y1} \\cos{\\left(p_{\\theta1} \\right)}\\\\\\sin{\\left(p_{\\theta1} \\right)} & \\cos{\\left(p_{\\theta1} \\right)} & p_{x1} \\cos{\\left(p_{\\theta1} \\right)} - p_{y1} \\sin{\\left(p_{\\theta1} \\right)}\\\\\\cos{\\left(p_{\\theta2} \\right)} & - \\sin{\\left(p_{\\theta2} \\right)} & - p_{x2} \\sin{\\left(p_{\\theta2} \\right)} - p_{y2} \\cos{\\left(p_{\\theta2} \\right)}\\\\\\sin{\\left(p_{\\theta2} \\right)} & \\cos{\\left(p_{\\theta2} \\right)} & p_{x2} \\cos{\\left(p_{\\theta2} \\right)} - p_{y2} \\sin{\\left(p_{\\theta2} \\right)}\\\\\\cos{\\left(p_{\\theta3} \\right)} & - \\sin{\\left(p_{\\theta3} \\right)} & - p_{x3} \\sin{\\left(p_{\\theta3} \\right)} - p_{y3} \\cos{\\left(p_{\\theta3} \\right)}\\\\\\sin{\\left(p_{\\theta3} \\right)} & \\cos{\\left(p_{\\theta3} \\right)} & p_{x3} \\cos{\\left(p_{\\theta3} \\right)} - p_{y3} \\sin{\\left(p_{\\theta3} \\right)}\\end{matrix}\\right]$"
      ],
      "text/plain": [
       "Matrix([\n",
       "[cos(p_\\theta1), -sin(p_\\theta1), -p_x1*sin(p_\\theta1) - p_y1*cos(p_\\theta1)],\n",
       "[sin(p_\\theta1),  cos(p_\\theta1),  p_x1*cos(p_\\theta1) - p_y1*sin(p_\\theta1)],\n",
       "[cos(p_\\theta2), -sin(p_\\theta2), -p_x2*sin(p_\\theta2) - p_y2*cos(p_\\theta2)],\n",
       "[sin(p_\\theta2),  cos(p_\\theta2),  p_x2*cos(p_\\theta2) - p_y2*sin(p_\\theta2)],\n",
       "[cos(p_\\theta3), -sin(p_\\theta3), -p_x3*sin(p_\\theta3) - p_y3*cos(p_\\theta3)],\n",
       "[sin(p_\\theta3),  cos(p_\\theta3),  p_x3*cos(p_\\theta3) - p_y3*sin(p_\\theta3)]])"
      ]
     },
     "execution_count": 7,
     "metadata": {},
     "output_type": "execute_result"
    }
   ],
   "source": [
    "M = Matrix([\n",
    "    body_twist_to_pod_wheel_motion_matrix.subs('p_x', 'p_x1').subs('p_y','p_y1').subs(symbols('p_\\\\theta'), symbols('p_\\\\theta1')),\n",
    "    body_twist_to_pod_wheel_motion_matrix.subs('p_x', 'p_x2').subs('p_y','p_y2').subs(symbols('p_\\\\theta'), symbols('p_\\\\theta2')),\n",
    "    body_twist_to_pod_wheel_motion_matrix.subs('p_x', 'p_x3').subs('p_y','p_y3').subs(symbols('p_\\\\theta'), symbols('p_\\\\theta3'))])\n",
    "M"
   ]
  },
  {
   "cell_type": "markdown",
   "metadata": {},
   "source": [
    "This matrix $M$ is a mapping of Robot Motion to perceived motion of 3 sensors.\n",
    "\n",
    "If we invert the matrix and multiply by the readings of our fictional optical trackers, we should get the Robot Motion back."
   ]
  },
  {
   "cell_type": "markdown",
   "metadata": {},
   "source": [
    "## In which we realize we do not have 3 optical tracking sensors and even if we did that would be a waste of them\n",
    "\n",
    "The bad news is that odometry pods only measure one axis (x-axis of the fictional trackers we've been talking about) while the other axis (y axis) is what causes the rollers to spin and we won't measure anything from that encoder.\n",
    "\n",
    "The good news is, 6 distance readings is more than enough to solve for 3 degrees of freedom.\n",
    "And since we can measure half of six with the current robot we're chilling.\n",
    "\n",
    "Since we will never have data for the 'y-axis' of the fictional sensor, we can drop those rows of our matrix. Which leaves us a 'Reduced' Matrix $M_r$\n",
    "\n",
    "$M_r$ = "
   ]
  },
  {
   "cell_type": "code",
   "execution_count": 8,
   "metadata": {},
   "outputs": [
    {
     "data": {
      "text/latex": [
       "$\\displaystyle \\left[\\begin{matrix}\\cos{\\left(p_{\\theta1} \\right)} & - \\sin{\\left(p_{\\theta1} \\right)} & - p_{x1} \\sin{\\left(p_{\\theta1} \\right)} - p_{y1} \\cos{\\left(p_{\\theta1} \\right)}\\\\\\cos{\\left(p_{\\theta2} \\right)} & - \\sin{\\left(p_{\\theta2} \\right)} & - p_{x2} \\sin{\\left(p_{\\theta2} \\right)} - p_{y2} \\cos{\\left(p_{\\theta2} \\right)}\\\\\\cos{\\left(p_{\\theta3} \\right)} & - \\sin{\\left(p_{\\theta3} \\right)} & - p_{x3} \\sin{\\left(p_{\\theta3} \\right)} - p_{y3} \\cos{\\left(p_{\\theta3} \\right)}\\end{matrix}\\right]$"
      ],
      "text/plain": [
       "Matrix([\n",
       "[cos(p_\\theta1), -sin(p_\\theta1), -p_x1*sin(p_\\theta1) - p_y1*cos(p_\\theta1)],\n",
       "[cos(p_\\theta2), -sin(p_\\theta2), -p_x2*sin(p_\\theta2) - p_y2*cos(p_\\theta2)],\n",
       "[cos(p_\\theta3), -sin(p_\\theta3), -p_x3*sin(p_\\theta3) - p_y3*cos(p_\\theta3)]])"
      ]
     },
     "execution_count": 8,
     "metadata": {},
     "output_type": "execute_result"
    }
   ],
   "source": [
    "M_r = Matrix([M.row(i) for i in range(0,M.rows, 2)])\n",
    "M_r"
   ]
  },
  {
   "cell_type": "markdown",
   "metadata": {},
   "source": [
    "Similarly here, we can invert this mapping of robot motion to subset of encoder motion\n",
    "\n",
    "Then we can feed it the encoders we know and recover the robot motion.\n",
    "\n",
    "And as a funny side effect if we calculate the robot motion we can then use the non-reduced $M$ to calculate the perpindiclar motion of the omni wheels (this like isnt helpful i don't think but its here)\n",
    "\n",
    "with T as the robot motion\n",
    "\n",
    "$$M_r T = E_k = \\text{encoders we know}$$\n",
    "\n",
    "$$M_r^{-1} E_k = T$$"
   ]
  },
  {
   "cell_type": "markdown",
   "metadata": {},
   "source": [
    "# Example\n",
    "### Parameters from the software bot"
   ]
  },
  {
   "cell_type": "code",
   "execution_count": 9,
   "metadata": {},
   "outputs": [],
   "source": [
    "cfg1 = TrackingWheelCfg(Matrix([-0.04445 * meter, 0.06985 * meter]), 0 * radian, 0.028297632 * meter)\n",
    "cfg2 = TrackingWheelCfg(Matrix([0.008382 * meter, -0.06985 * meter]), pi * radian, 0.028297632 * meter)\n",
    "cfg3 = TrackingWheelCfg(Matrix([-0.2032 * meter, -0.0127 * meter]), (pi / 2) * radian, 0.028297632 * meter)"
   ]
  },
  {
   "cell_type": "markdown",
   "metadata": {},
   "source": [
    "$M$ matrix from software bot"
   ]
  },
  {
   "cell_type": "code",
   "execution_count": 10,
   "metadata": {},
   "outputs": [
    {
     "data": {
      "text/latex": [
       "$\\displaystyle \\left[\\begin{matrix}1 & 0 & -0.06985\\\\0 & 1 & -0.04445\\\\-1 & 0 & -0.06985\\\\0 & -1 & -0.008382\\\\0 & -1 & 0.2032\\\\1 & 0 & 0.0127\\end{matrix}\\right]$"
      ],
      "text/plain": [
       "Matrix([\n",
       "[ 1,  0,  -0.06985],\n",
       "[ 0,  1,  -0.04445],\n",
       "[-1,  0,  -0.06985],\n",
       "[ 0, -1, -0.008382],\n",
       "[ 0, -1,    0.2032],\n",
       "[ 1,  0,    0.0127]])"
      ]
     },
     "execution_count": 10,
     "metadata": {},
     "output_type": "execute_result"
    }
   ],
   "source": [
    "MFilled = M \\\n",
    "    .subs(symbols('p_\\\\theta1'),cfg1.theta_rad / radian) \\\n",
    "    .subs('p_x1', cfg1.p[0] / meter).subs('p_y1', cfg1.p[1] / meter) \\\n",
    "    .subs(symbols('p_\\\\theta2'),cfg2.theta_rad / radian) \\\n",
    "    .subs('p_x2', cfg2.p[0] / meter).subs('p_y2', cfg2.p[1] / meter) \\\n",
    "    .subs(symbols('p_\\\\theta3'),cfg3.theta_rad / radian) \\\n",
    "    .subs('p_x3', cfg3.p[0] / meter).subs('p_y3', cfg3.p[1] / meter)\n",
    "MFilled\n"
   ]
  },
  {
   "cell_type": "markdown",
   "metadata": {},
   "source": [
    "$M_r$ from software bot"
   ]
  },
  {
   "cell_type": "code",
   "execution_count": 11,
   "metadata": {},
   "outputs": [
    {
     "data": {
      "text/latex": [
       "$\\displaystyle \\left[\\begin{matrix}1 & 0 & -0.06985\\\\-1 & 0 & -0.06985\\\\0 & -1 & 0.2032\\end{matrix}\\right]$"
      ],
      "text/plain": [
       "Matrix([\n",
       "[ 1,  0, -0.06985],\n",
       "[-1,  0, -0.06985],\n",
       "[ 0, -1,   0.2032]])"
      ]
     },
     "execution_count": 11,
     "metadata": {},
     "output_type": "execute_result"
    }
   ],
   "source": [
    "M_rFilled = Matrix([MFilled.row(r) for r in range(0,MFilled.rows,2)])\n",
    "M_rFilled"
   ]
  },
  {
   "cell_type": "markdown",
   "metadata": {},
   "source": [
    "And now, for my final trick, finding the (pseudo)inverse"
   ]
  },
  {
   "cell_type": "code",
   "execution_count": 12,
   "metadata": {},
   "outputs": [
    {
     "data": {
      "text/latex": [
       "$\\displaystyle \\left[\\begin{matrix}0.5 & -0.5 & 0\\\\-1.45454545454545 & -1.45454545454545 & -1.0\\\\-7.15819613457409 & -7.15819613457409 & 0\\end{matrix}\\right]$"
      ],
      "text/plain": [
       "Matrix([\n",
       "[              0.5,              -0.5,    0],\n",
       "[-1.45454545454545, -1.45454545454545, -1.0],\n",
       "[-7.15819613457409, -7.15819613457409,    0]])"
      ]
     },
     "execution_count": 12,
     "metadata": {},
     "output_type": "execute_result"
    }
   ],
   "source": [
    "M_rFilled.pinv()"
   ]
  },
  {
   "cell_type": "markdown",
   "metadata": {},
   "source": [
    "Imagine the robot driving forward 0.01 meters. The forward facing encoders would rotate to make a linear distance of 0.01 meters and the side facing encoder would not rotate(in a direction it can measure at least)\n",
    "\n",
    "One of the forward facing encoders is reversed becasue of the way it is mounted\n",
    "\n",
    "$$E_k = \\text{encoders we know} = \\begin{bmatrix} 0.01 \\\\ -0.01 \\\\ 0 \\end{bmatrix}$$"
   ]
  },
  {
   "cell_type": "code",
   "execution_count": 13,
   "metadata": {},
   "outputs": [
    {
     "data": {
      "text/latex": [
       "$\\displaystyle \\left[\\begin{matrix}0.01\\\\0\\\\0\\end{matrix}\\right]$"
      ],
      "text/plain": [
       "Matrix([\n",
       "[0.01],\n",
       "[   0],\n",
       "[   0]])"
      ]
     },
     "execution_count": 13,
     "metadata": {},
     "output_type": "execute_result"
    }
   ],
   "source": [
    "T = M_rFilled.pinv()*Matrix([0.01, -0.01, 0])\n",
    "T"
   ]
  },
  {
   "cell_type": "markdown",
   "metadata": {},
   "source": [
    "Would you look at that, a forward motion.\n",
    "\n",
    "Now if we wanna extrapolate what the perpindicular, unmeasurable movements of the omni wheels was we can do that too"
   ]
  },
  {
   "cell_type": "code",
   "execution_count": 14,
   "metadata": {},
   "outputs": [
    {
     "data": {
      "text/latex": [
       "$\\displaystyle \\left[\\begin{matrix}0.01\\\\0\\\\-0.01\\\\0\\\\0\\\\0.01\\end{matrix}\\right]$"
      ],
      "text/plain": [
       "Matrix([\n",
       "[ 0.01],\n",
       "[    0],\n",
       "[-0.01],\n",
       "[    0],\n",
       "[    0],\n",
       "[ 0.01]])"
      ]
     },
     "execution_count": 14,
     "metadata": {},
     "output_type": "execute_result"
    }
   ],
   "source": [
    "MFilled * T"
   ]
  },
  {
   "cell_type": "markdown",
   "metadata": {},
   "source": [
    "Final note, the angular motion to linear motion of the omni wheel is not included here.\n",
    "\n",
    "You can add it in when making the known encoder vector. Or you can probably put it in sooner i just didnt do that"
   ]
  },
  {
   "cell_type": "code",
   "execution_count": 15,
   "metadata": {},
   "outputs": [],
   "source": [
    "import random"
   ]
  },
  {
   "cell_type": "code",
   "execution_count": 16,
   "metadata": {},
   "outputs": [
    {
     "data": {
      "text/plain": [
       "0.07928003371843095"
      ]
     },
     "execution_count": 16,
     "metadata": {},
     "output_type": "execute_result"
    }
   ],
   "source": [
    "(random.random() * 2 - 1) * 0.1"
   ]
  },
  {
   "cell_type": "code",
   "execution_count": 17,
   "metadata": {},
   "outputs": [
    {
     "data": {
      "text/latex": [
       "$\\displaystyle \\left[\\begin{matrix}0.5 & -0.5 & 0\\\\-1.45454545454545 & -1.45454545454545 & -1.0\\\\-7.15819613457409 & -7.15819613457409 & 0\\end{matrix}\\right]$"
      ],
      "text/plain": [
       "Matrix([\n",
       "[              0.5,              -0.5,    0],\n",
       "[-1.45454545454545, -1.45454545454545, -1.0],\n",
       "[-7.15819613457409, -7.15819613457409,    0]])"
      ]
     },
     "execution_count": 17,
     "metadata": {},
     "output_type": "execute_result"
    }
   ],
   "source": [
    "M_rFilled.pinv()"
   ]
  },
  {
   "cell_type": "markdown",
   "metadata": {},
   "source": []
  },
  {
   "cell_type": "code",
   "execution_count": 18,
   "metadata": {},
   "outputs": [
    {
     "data": {
      "text/latex": [
       "$\\displaystyle \\left[\\begin{matrix}0\\\\-0.1\\\\0\\end{matrix}\\right]$"
      ],
      "text/plain": [
       "Matrix([\n",
       "[   0],\n",
       "[-0.1],\n",
       "[   0]])"
      ]
     },
     "execution_count": 18,
     "metadata": {},
     "output_type": "execute_result"
    }
   ],
   "source": [
    "M_rFilled.pinv() * Matrix([0,0,0.1])"
   ]
  },
  {
   "cell_type": "code",
   "execution_count": 19,
   "metadata": {},
   "outputs": [],
   "source": [
    "inverse = M_rFilled.pinv()\n",
    "pos = Matrix([0,0,0])\n",
    "poss = [pos]\n",
    "for i in range(4000):\n",
    "\n",
    "    delt = inverse * Matrix([0.002,0.002, 0.0])\n",
    "    pdelt = rotation_matrix2d(pos[2]) * Matrix([delt[0],delt[1]]) \n",
    "    delt[0] = pdelt[0]\n",
    "    delt[1] = pdelt[1]\n",
    "\n",
    "    pos += delt \n",
    "    poss.append(pos)"
   ]
  },
  {
   "cell_type": "code",
   "execution_count": 20,
   "metadata": {},
   "outputs": [],
   "source": [
    "import matplotlib.pyplot as plt"
   ]
  },
  {
   "cell_type": "code",
   "execution_count": 21,
   "metadata": {},
   "outputs": [],
   "source": [
    "import pandas as pd"
   ]
  },
  {
   "cell_type": "code",
   "execution_count": 22,
   "metadata": {},
   "outputs": [],
   "source": [
    "df = pd.read_csv('encoderdeltas.csv', names=([\"left\", \"right\", \"rear\"]))\n",
    "df['t'] = df.index\n",
    "df['left'] = pd.to_numeric(df['left'], errors='coerce')\n",
    "df['right'] = pd.to_numeric(df['right'], errors='coerce')\n",
    "df['rear'] = pd.to_numeric(df['rear'], errors='coerce')\n",
    "df = df.dropna()"
   ]
  },
  {
   "cell_type": "code",
   "execution_count": null,
   "metadata": {},
   "outputs": [],
   "source": []
  },
  {
   "cell_type": "code",
   "execution_count": 119,
   "metadata": {},
   "outputs": [],
   "source": [
    "inverse = M_rFilled.pinv()\n",
    "pos = Matrix([0,0,0])\n",
    "posex = []\n",
    "posey = []\n",
    "poseo = []\n",
    "\n",
    "deltx = []\n",
    "delty = []\n",
    "delto = []\n",
    "\n",
    "for i, row in df.iterrows():\n",
    "    E_k = Matrix([row['left'], row['right'], row['rear']])\n",
    "    delt = inverse * E_k\n",
    "\n",
    "    pdelt = rotation_matrix2d(pos[2]) * Matrix([delt[0],delt[1]]) \n",
    "    delt[0] = pdelt[0]\n",
    "    delt[1] = pdelt[1]\n",
    "    \n",
    "    delt[2] = delt[2] / 2\n",
    "\n",
    "    pos += delt \n",
    "    deltx.append(delt[0])\n",
    "    delty.append(delt[1])\n",
    "    delto.append(delt[2])\n",
    "\n",
    "    posex.append(pos[0])\n",
    "    posey.append(pos[1])\n",
    "    poseo.append(pos[2])"
   ]
  },
  {
   "cell_type": "code",
   "execution_count": 120,
   "metadata": {},
   "outputs": [],
   "source": [
    "df['twistx'] = deltx\n",
    "df['twisty'] = delty\n",
    "df['twisto'] = delto\n",
    "\n",
    "df['twistx'] = df['twistx'].astype(float)\n",
    "df['twisty'] = df['twisty'].astype(float)\n",
    "df['twisto'] = df['twisto'].astype(float)\n",
    "\n",
    "\n",
    "df['posex'] = posex\n",
    "df['posey'] = posey\n",
    "df['poseo'] = poseo\n",
    "\n",
    "df['posex'] = df['posex'].astype(float)\n",
    "df['posey'] = df['posey'].astype(float)\n",
    "df['poseo'] = df['poseo'].astype(float)\n"
   ]
  },
  {
   "cell_type": "code",
   "execution_count": 121,
   "metadata": {},
   "outputs": [
    {
     "data": {
      "image/png": "[encoded data removed]",
      "text/plain": [
       "<Figure size 640x480 with 1 Axes>"
      ]
     },
     "metadata": {},
     "output_type": "display_data"
    }
   ],
   "source": [
    "ax = plt.figure().add_subplot(projection='3d')\n",
    "ax.plot(df['posex'], df['posey'], zs=df['t'], zdir='z', label='curve in (x, y)')\n",
    "ax.view_init(elev=90., azim=-90, roll=0)\n"
   ]
  },
  {
   "cell_type": "code",
   "execution_count": 122,
   "metadata": {},
   "outputs": [
    {
     "data": {
      "text/plain": [
       "<Axes: xlabel='t'>"
      ]
     },
     "execution_count": 122,
     "metadata": {},
     "output_type": "execute_result"
    },
    {
     "data": {
      "image/png": "[encoded data removed]",
      "text/plain": [
       "<Figure size 640x480 with 1 Axes>"
      ]
     },
     "metadata": {},
     "output_type": "display_data"
    }
   ],
   "source": [
    "df.plot(x='t', y='posey')"
   ]
  },
  {
   "cell_type": "code",
   "execution_count": 123,
   "metadata": {},
   "outputs": [],
   "source": [
    "from matplotlib.animation import FuncAnimation\n",
    "import numpy as np\n",
    "import matplotlib.patches as patches"
   ]
  },
  {
   "cell_type": "code",
   "execution_count": 124,
   "metadata": {},
   "outputs": [
    {
     "ename": "IndexError",
     "evalue": "single positional indexer is out-of-bounds",
     "output_type": "error",
     "traceback": [
      "\u001b[0;31m---------------------------------------------------------------------------\u001b[0m",
      "\u001b[0;31mIndexError\u001b[0m                                Traceback (most recent call last)",
      "Cell \u001b[0;32mIn[124], line 35\u001b[0m\n\u001b[1;32m     29\u001b[0m     \u001b[38;5;28;01mreturn\u001b[39;00m rect\n\u001b[1;32m     31\u001b[0m animation \u001b[38;5;241m=\u001b[39m FuncAnimation(figure,\n\u001b[1;32m     32\u001b[0m                           func \u001b[38;5;241m=\u001b[39m animation_function,\n\u001b[1;32m     33\u001b[0m                           frames \u001b[38;5;241m=\u001b[39m np\u001b[38;5;241m.\u001b[39marange(df\u001b[38;5;241m.\u001b[39mindex\u001b[38;5;241m.\u001b[39mmin(), df\u001b[38;5;241m.\u001b[39mindex\u001b[38;5;241m.\u001b[39mmax()\u001b[38;5;241m-\u001b[39m\u001b[38;5;241m10\u001b[39m, \u001b[38;5;241m2\u001b[39m), \n\u001b[1;32m     34\u001b[0m                           interval \u001b[38;5;241m=\u001b[39m \u001b[38;5;241m16\u001b[39m)\n\u001b[0;32m---> 35\u001b[0m \u001b[43manimation\u001b[49m\u001b[38;5;241;43m.\u001b[39;49m\u001b[43msave\u001b[49m\u001b[43m(\u001b[49m\u001b[38;5;124;43m\"\u001b[39;49m\u001b[38;5;124;43mout.mp4\u001b[39;49m\u001b[38;5;124;43m\"\u001b[39;49m\u001b[43m)\u001b[49m\n",
      "File \u001b[0;32m/usr/lib/python3.12/site-packages/matplotlib/animation.py:1085\u001b[0m, in \u001b[0;36mAnimation.save\u001b[0;34m(self, filename, writer, fps, dpi, codec, bitrate, extra_args, metadata, extra_anim, savefig_kwargs, progress_callback)\u001b[0m\n\u001b[1;32m   1082\u001b[0m \u001b[38;5;28;01mfor\u001b[39;00m data \u001b[38;5;129;01min\u001b[39;00m \u001b[38;5;28mzip\u001b[39m(\u001b[38;5;241m*\u001b[39m[a\u001b[38;5;241m.\u001b[39mnew_saved_frame_seq() \u001b[38;5;28;01mfor\u001b[39;00m a \u001b[38;5;129;01min\u001b[39;00m all_anim]):\n\u001b[1;32m   1083\u001b[0m     \u001b[38;5;28;01mfor\u001b[39;00m anim, d \u001b[38;5;129;01min\u001b[39;00m \u001b[38;5;28mzip\u001b[39m(all_anim, data):\n\u001b[1;32m   1084\u001b[0m         \u001b[38;5;66;03m# TODO: See if turning off blit is really necessary\u001b[39;00m\n\u001b[0;32m-> 1085\u001b[0m         \u001b[43manim\u001b[49m\u001b[38;5;241;43m.\u001b[39;49m\u001b[43m_draw_next_frame\u001b[49m\u001b[43m(\u001b[49m\u001b[43md\u001b[49m\u001b[43m,\u001b[49m\u001b[43m \u001b[49m\u001b[43mblit\u001b[49m\u001b[38;5;241;43m=\u001b[39;49m\u001b[38;5;28;43;01mFalse\u001b[39;49;00m\u001b[43m)\u001b[49m\n\u001b[1;32m   1086\u001b[0m         \u001b[38;5;28;01mif\u001b[39;00m progress_callback \u001b[38;5;129;01mis\u001b[39;00m \u001b[38;5;129;01mnot\u001b[39;00m \u001b[38;5;28;01mNone\u001b[39;00m:\n\u001b[1;32m   1087\u001b[0m             progress_callback(frame_number, total_frames)\n",
      "File \u001b[0;32m/usr/lib/python3.12/site-packages/matplotlib/animation.py:1120\u001b[0m, in \u001b[0;36mAnimation._draw_next_frame\u001b[0;34m(self, framedata, blit)\u001b[0m\n\u001b[1;32m   1116\u001b[0m \u001b[38;5;28;01mdef\u001b[39;00m \u001b[38;5;21m_draw_next_frame\u001b[39m(\u001b[38;5;28mself\u001b[39m, framedata, blit):\n\u001b[1;32m   1117\u001b[0m     \u001b[38;5;66;03m# Breaks down the drawing of the next frame into steps of pre- and\u001b[39;00m\n\u001b[1;32m   1118\u001b[0m     \u001b[38;5;66;03m# post- draw, as well as the drawing of the frame itself.\u001b[39;00m\n\u001b[1;32m   1119\u001b[0m     \u001b[38;5;28mself\u001b[39m\u001b[38;5;241m.\u001b[39m_pre_draw(framedata, blit)\n\u001b[0;32m-> 1120\u001b[0m     \u001b[38;5;28;43mself\u001b[39;49m\u001b[38;5;241;43m.\u001b[39;49m\u001b[43m_draw_frame\u001b[49m\u001b[43m(\u001b[49m\u001b[43mframedata\u001b[49m\u001b[43m)\u001b[49m\n\u001b[1;32m   1121\u001b[0m     \u001b[38;5;28mself\u001b[39m\u001b[38;5;241m.\u001b[39m_post_draw(framedata, blit)\n",
      "File \u001b[0;32m/usr/lib/python3.12/site-packages/matplotlib/animation.py:1746\u001b[0m, in \u001b[0;36mFuncAnimation._draw_frame\u001b[0;34m(self, framedata)\u001b[0m\n\u001b[1;32m   1742\u001b[0m     \u001b[38;5;28mself\u001b[39m\u001b[38;5;241m.\u001b[39m_save_seq \u001b[38;5;241m=\u001b[39m \u001b[38;5;28mself\u001b[39m\u001b[38;5;241m.\u001b[39m_save_seq[\u001b[38;5;241m-\u001b[39m\u001b[38;5;28mself\u001b[39m\u001b[38;5;241m.\u001b[39m_save_count:]\n\u001b[1;32m   1744\u001b[0m \u001b[38;5;66;03m# Call the func with framedata and args. If blitting is desired,\u001b[39;00m\n\u001b[1;32m   1745\u001b[0m \u001b[38;5;66;03m# func needs to return a sequence of any artists that were modified.\u001b[39;00m\n\u001b[0;32m-> 1746\u001b[0m \u001b[38;5;28mself\u001b[39m\u001b[38;5;241m.\u001b[39m_drawn_artists \u001b[38;5;241m=\u001b[39m \u001b[38;5;28;43mself\u001b[39;49m\u001b[38;5;241;43m.\u001b[39;49m\u001b[43m_func\u001b[49m\u001b[43m(\u001b[49m\u001b[43mframedata\u001b[49m\u001b[43m,\u001b[49m\u001b[43m \u001b[49m\u001b[38;5;241;43m*\u001b[39;49m\u001b[38;5;28;43mself\u001b[39;49m\u001b[38;5;241;43m.\u001b[39;49m\u001b[43m_args\u001b[49m\u001b[43m)\u001b[49m\n\u001b[1;32m   1748\u001b[0m \u001b[38;5;28;01mif\u001b[39;00m \u001b[38;5;28mself\u001b[39m\u001b[38;5;241m.\u001b[39m_blit:\n\u001b[1;32m   1750\u001b[0m     err \u001b[38;5;241m=\u001b[39m \u001b[38;5;167;01mRuntimeError\u001b[39;00m(\u001b[38;5;124m'\u001b[39m\u001b[38;5;124mThe animation function must return a sequence \u001b[39m\u001b[38;5;124m'\u001b[39m\n\u001b[1;32m   1751\u001b[0m                        \u001b[38;5;124m'\u001b[39m\u001b[38;5;124mof Artist objects.\u001b[39m\u001b[38;5;124m'\u001b[39m)\n",
      "Cell \u001b[0;32mIn[124], line 23\u001b[0m, in \u001b[0;36manimation_function\u001b[0;34m(i)\u001b[0m\n\u001b[1;32m     22\u001b[0m \u001b[38;5;28;01mdef\u001b[39;00m \u001b[38;5;21manimation_function\u001b[39m(i):\n\u001b[0;32m---> 23\u001b[0m     row \u001b[38;5;241m=\u001b[39m \u001b[43mdf\u001b[49m\u001b[38;5;241;43m.\u001b[39;49m\u001b[43miloc\u001b[49m\u001b[43m[\u001b[49m\u001b[43mi\u001b[49m\u001b[43m]\u001b[49m\n\u001b[1;32m     24\u001b[0m     rect\u001b[38;5;241m.\u001b[39mcenter \u001b[38;5;241m=\u001b[39m (row[\u001b[38;5;124m'\u001b[39m\u001b[38;5;124mposex\u001b[39m\u001b[38;5;124m'\u001b[39m], row[\u001b[38;5;124m'\u001b[39m\u001b[38;5;124mposey\u001b[39m\u001b[38;5;124m'\u001b[39m])\n\u001b[1;32m     26\u001b[0m     xd, yd \u001b[38;5;241m=\u001b[39m orientationLine(row[\u001b[38;5;124m'\u001b[39m\u001b[38;5;124mposex\u001b[39m\u001b[38;5;124m'\u001b[39m], row[\u001b[38;5;124m'\u001b[39m\u001b[38;5;124mposey\u001b[39m\u001b[38;5;124m'\u001b[39m], row[\u001b[38;5;124m'\u001b[39m\u001b[38;5;124mposeo\u001b[39m\u001b[38;5;124m'\u001b[39m])\n",
      "File \u001b[0;32m/usr/lib/python3.12/site-packages/pandas/core/indexing.py:1191\u001b[0m, in \u001b[0;36m_LocationIndexer.__getitem__\u001b[0;34m(self, key)\u001b[0m\n\u001b[1;32m   1189\u001b[0m maybe_callable \u001b[38;5;241m=\u001b[39m com\u001b[38;5;241m.\u001b[39mapply_if_callable(key, \u001b[38;5;28mself\u001b[39m\u001b[38;5;241m.\u001b[39mobj)\n\u001b[1;32m   1190\u001b[0m maybe_callable \u001b[38;5;241m=\u001b[39m \u001b[38;5;28mself\u001b[39m\u001b[38;5;241m.\u001b[39m_check_deprecated_callable_usage(key, maybe_callable)\n\u001b[0;32m-> 1191\u001b[0m \u001b[38;5;28;01mreturn\u001b[39;00m \u001b[38;5;28;43mself\u001b[39;49m\u001b[38;5;241;43m.\u001b[39;49m\u001b[43m_getitem_axis\u001b[49m\u001b[43m(\u001b[49m\u001b[43mmaybe_callable\u001b[49m\u001b[43m,\u001b[49m\u001b[43m \u001b[49m\u001b[43maxis\u001b[49m\u001b[38;5;241;43m=\u001b[39;49m\u001b[43maxis\u001b[49m\u001b[43m)\u001b[49m\n",
      "File \u001b[0;32m/usr/lib/python3.12/site-packages/pandas/core/indexing.py:1752\u001b[0m, in \u001b[0;36m_iLocIndexer._getitem_axis\u001b[0;34m(self, key, axis)\u001b[0m\n\u001b[1;32m   1749\u001b[0m     \u001b[38;5;28;01mraise\u001b[39;00m \u001b[38;5;167;01mTypeError\u001b[39;00m(\u001b[38;5;124m\"\u001b[39m\u001b[38;5;124mCannot index by location index with a non-integer key\u001b[39m\u001b[38;5;124m\"\u001b[39m)\n\u001b[1;32m   1751\u001b[0m \u001b[38;5;66;03m# validate the location\u001b[39;00m\n\u001b[0;32m-> 1752\u001b[0m \u001b[38;5;28;43mself\u001b[39;49m\u001b[38;5;241;43m.\u001b[39;49m\u001b[43m_validate_integer\u001b[49m\u001b[43m(\u001b[49m\u001b[43mkey\u001b[49m\u001b[43m,\u001b[49m\u001b[43m \u001b[49m\u001b[43maxis\u001b[49m\u001b[43m)\u001b[49m\n\u001b[1;32m   1754\u001b[0m \u001b[38;5;28;01mreturn\u001b[39;00m \u001b[38;5;28mself\u001b[39m\u001b[38;5;241m.\u001b[39mobj\u001b[38;5;241m.\u001b[39m_ixs(key, axis\u001b[38;5;241m=\u001b[39maxis)\n",
      "File \u001b[0;32m/usr/lib/python3.12/site-packages/pandas/core/indexing.py:1685\u001b[0m, in \u001b[0;36m_iLocIndexer._validate_integer\u001b[0;34m(self, key, axis)\u001b[0m\n\u001b[1;32m   1683\u001b[0m len_axis \u001b[38;5;241m=\u001b[39m \u001b[38;5;28mlen\u001b[39m(\u001b[38;5;28mself\u001b[39m\u001b[38;5;241m.\u001b[39mobj\u001b[38;5;241m.\u001b[39m_get_axis(axis))\n\u001b[1;32m   1684\u001b[0m \u001b[38;5;28;01mif\u001b[39;00m key \u001b[38;5;241m>\u001b[39m\u001b[38;5;241m=\u001b[39m len_axis \u001b[38;5;129;01mor\u001b[39;00m key \u001b[38;5;241m<\u001b[39m \u001b[38;5;241m-\u001b[39mlen_axis:\n\u001b[0;32m-> 1685\u001b[0m     \u001b[38;5;28;01mraise\u001b[39;00m \u001b[38;5;167;01mIndexError\u001b[39;00m(\u001b[38;5;124m\"\u001b[39m\u001b[38;5;124msingle positional indexer is out-of-bounds\u001b[39m\u001b[38;5;124m\"\u001b[39m)\n",
      "\u001b[0;31mIndexError\u001b[0m: single positional indexer is out-of-bounds"
     ]
    },
    {
     "data": {
      "image/png": "[encoded data removed]",
      "text/plain": [
       "<Figure size 640x480 with 1 Axes>"
      ]
     },
     "metadata": {},
     "output_type": "display_data"
    }
   ],
   "source": [
    "figure, ax = plt.subplots()\n",
    "\n",
    "# Setting limits for x and y axis\n",
    "ax.set_xlim(-10, 20)\n",
    "ax.set_ylim(-10, 20)\n",
    "\n",
    "# Since plotting a single graph\n",
    "radius = 4\n",
    "rect  = patches.Circle((6,6), radius)\n",
    "\n",
    "def orientationLine(x, y, angle_rad):\n",
    "    dx = cos(angle_rad) * radius\n",
    "    dy = sin(angle_rad) * radius\n",
    "    return [x, x+dx], [y, y+dy]\n",
    "\n",
    "ax.add_patch(rect)\n",
    "\n",
    "line, = ax.plot([0], [0], marker='o', markersize=3, c ='r', linewidth=3)\n",
    "\n",
    "ax.set_aspect('equal')\n",
    "\n",
    "def animation_function(i):\n",
    "    row = df.iloc[i]\n",
    "    rect.center = (row['posex'], row['posey'])\n",
    "\n",
    "    xd, yd = orientationLine(row['posex'], row['posey'], row['poseo'])\n",
    "    line.set_xdata(xd)\n",
    "    line.set_ydata(yd)\n",
    "    return rect\n",
    "\n",
    "animation = FuncAnimation(figure,\n",
    "                          func = animation_function,\n",
    "                          frames = np.arange(df.index.min(), df.index.max()-10, 2), \n",
    "                          interval = 16)\n",
    "animation.save(\"out.mp4\")\n"
   ]
  },
  {
   "cell_type": "code",
   "execution_count": null,
   "metadata": {},
   "outputs": [],
   "source": [
    "plt.close()"
   ]
  }
 ],
 "metadata": {
  "kernelspec": {
   "display_name": "Python 3",
   "language": "python",
   "name": "python3"
  },
  "language_info": {
   "codemirror_mode": {
    "name": "ipython",
    "version": 3
   },
   "file_extension": ".py",
   "mimetype": "text/x-python",
   "name": "python",
   "nbconvert_exporter": "python",
   "pygments_lexer": "ipython3",
   "version": "3.12.6"
  }
 },
 "nbformat": 4,
 "nbformat_minor": 2
}
