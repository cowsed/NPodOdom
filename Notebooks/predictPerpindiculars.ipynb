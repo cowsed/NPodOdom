{
 "cells": [
  {
   "cell_type": "code",
   "execution_count": 101,
   "metadata": {},
   "outputs": [],
   "source": [
    "from collections import namedtuple\n",
    "import sympy\n",
    "from sympy import Matrix, det, symbols, sin, cos, pi\n",
    "from sympy.physics.units import speed_of_light, meter, second, convert_to, radian\n",
    "import IPython.display"
   ]
  },
  {
   "cell_type": "code",
   "execution_count": 102,
   "metadata": {},
   "outputs": [],
   "source": [
    "TrackingWheelCfg = namedtuple('TrackingWheelCfg', ['p', 'theta_rad', 'radius_meters'])\n",
    "\n",
    "Twist = namedtuple(\"Twist\", [\"dx\", \"dy\", \"dtheta\"])\n",
    "Pose = namedtuple(\"Pose\", [\"x\", \"y\", \"theta\"])"
   ]
  },
  {
   "cell_type": "code",
   "execution_count": 103,
   "metadata": {},
   "outputs": [],
   "source": [
    "e_x = Matrix([[1],[0]])\n",
    "e_y = Matrix([[0],[1]])"
   ]
  },
  {
   "cell_type": "code",
   "execution_count": 104,
   "metadata": {},
   "outputs": [],
   "source": [
    "acfg1 = TrackingWheelCfg(Matrix([['v_x1'], ['v_y1']]) * meter, symbols('o_1') * radian, symbols('r_1')* meter)\n",
    "acfg2 = TrackingWheelCfg(Matrix([['v_x2'], ['v_y2']]) * meter, symbols('o_2') * radian, symbols('r_2')* meter)\n",
    "acfg3 = TrackingWheelCfg(Matrix([['v_x3'], ['v_y3']]) * meter, symbols('o_3') * radian, symbols('r_3')* meter)\n",
    "\n",
    "cfg1 = TrackingWheelCfg(Matrix([-0.04445 * meter, 0.06985 * meter]), 0 * radian, 0.028297632 * meter)\n",
    "cfg2 = TrackingWheelCfg(Matrix([0.008382 * meter, -0.06985 * meter]), pi * radian, 0.028297632 * meter)\n",
    "cfg3 = TrackingWheelCfg(Matrix([-0.2032 * meter, -0.0127 * meter]), (3 * pi / 2) * radian, 0.028297632 * meter)"
   ]
  },
  {
   "cell_type": "code",
   "execution_count": 105,
   "metadata": {},
   "outputs": [],
   "source": [
    "def vectorFromRadians(theta):\n",
    "    return Matrix([cos(theta), sin(theta)])"
   ]
  },
  {
   "cell_type": "code",
   "execution_count": 106,
   "metadata": {},
   "outputs": [],
   "source": [
    "rotatePositive90Mat = Matrix([[0,-1],[1,0]])"
   ]
  },
  {
   "cell_type": "code",
   "execution_count": 110,
   "metadata": {},
   "outputs": [],
   "source": [
    "def f_x(cfg: TrackingWheelCfg):\n",
    "    d = vectorFromRadians(cfg.theta_rad)\n",
    "    return cfg.radius_meters * (e_x.dot(d))\n",
    "def f_xp(cfg: TrackingWheelCfg):\n",
    "    d = rotatePositive90Mat * vectorFromRadians(cfg.theta_rad)\n",
    "    return cfg.radius_meters * (e_x.dot(d))\n",
    "\n",
    "def f_y(cfg: TrackingWheelCfg):\n",
    "    d = vectorFromRadians(cfg.theta_rad)\n",
    "    return cfg.radius_meters * (e_y.dot(d))\n",
    "def f_yp(cfg: TrackingWheelCfg):\n",
    "    d = rotatePositive90Mat * vectorFromRadians(cfg.theta_rad)\n",
    "    return cfg.radius_meters * (e_y.dot(d))\n",
    "\n",
    "def f_o(cfg: TrackingWheelCfg):\n",
    "    v = cfg.p\n",
    "    t = rotatePositive90Mat * v.normalized()\n",
    "    d = vectorFromRadians(cfg.theta_rad)\n",
    "    return cfg.radius_meters * (t.dot(d)) / v.norm()\n",
    "def f_op(cfg: TrackingWheelCfg):\n",
    "    v = cfg.p\n",
    "    t = rotatePositive90Mat * v.normalized()\n",
    "    d = rotatePositive90Mat * vectorFromRadians(cfg.theta_rad)\n",
    "    return cfg.radius_meters * (t.dot(d)) / v.norm()\n"
   ]
  },
  {
   "cell_type": "code",
   "execution_count": 112,
   "metadata": {},
   "outputs": [],
   "source": [
    "m1 = Matrix([\n",
    "    [f_x(acfg1),\n",
    "    f_y(acfg1),\n",
    "    f_o(acfg1)],\n",
    "    [f_xp(acfg1),\n",
    "    f_yp(acfg1),\n",
    "    f_op(acfg1)]\n",
    "])"
   ]
  },
  {
   "cell_type": "code",
   "execution_count": 113,
   "metadata": {},
   "outputs": [
    {
     "data": {
      "text/latex": [
       "$\\displaystyle \\left[\\begin{matrix}\\frac{r_{1} \\left(\\left(dx \\cos{\\left(o_{1} \\text{rad} \\right)} + dy \\sin{\\left(o_{1} \\text{rad} \\right)}\\right) \\left(\\left|{v_{x1}}\\right|^{2} + \\left|{v_{y1}}\\right|^{2}\\right) \\text{m} + d\\theta \\left(v_{x1} \\sin{\\left(o_{1} \\text{rad} \\right)} - v_{y1} \\cos{\\left(o_{1} \\text{rad} \\right)}\\right)\\right)}{\\left|{v_{x1}}\\right|^{2} + \\left|{v_{y1}}\\right|^{2}}\\\\\\frac{r_{1} \\left(\\left(- dx \\sin{\\left(o_{1} \\text{rad} \\right)} + dy \\cos{\\left(o_{1} \\text{rad} \\right)}\\right) \\left(\\left|{v_{x1}}\\right|^{2} + \\left|{v_{y1}}\\right|^{2}\\right) \\text{m} + d\\theta \\left(v_{x1} \\cos{\\left(o_{1} \\text{rad} \\right)} + v_{y1} \\sin{\\left(o_{1} \\text{rad} \\right)}\\right)\\right)}{\\left|{v_{x1}}\\right|^{2} + \\left|{v_{y1}}\\right|^{2}}\\end{matrix}\\right]$"
      ],
      "text/plain": [
       "Matrix([\n",
       "[ r_1*(meter*(dx*cos(radian*o_1) + dy*sin(radian*o_1))*(Abs(v_x1)**2 + Abs(v_y1)**2) + d\\theta*(v_x1*sin(radian*o_1) - v_y1*cos(radian*o_1)))/(Abs(v_x1)**2 + Abs(v_y1)**2)],\n",
       "[r_1*(meter*(-dx*sin(radian*o_1) + dy*cos(radian*o_1))*(Abs(v_x1)**2 + Abs(v_y1)**2) + d\\theta*(v_x1*cos(radian*o_1) + v_y1*sin(radian*o_1)))/(Abs(v_x1)**2 + Abs(v_y1)**2)]])"
      ]
     },
     "execution_count": 113,
     "metadata": {},
     "output_type": "execute_result"
    }
   ],
   "source": [
    "sympy.simplify(m1 * Matrix(['dx','dy',symbols('d\\\\theta')]))"
   ]
  },
  {
   "cell_type": "markdown",
   "metadata": {},
   "source": [
    "Assuming radians to linear distance is a solved problem cuz it kinda is"
   ]
  },
  {
   "cell_type": "markdown",
   "metadata": {},
   "source": [
    "Things we know:\n",
    "- $c_\\text{perpindicular} + c_\\text{parallel} = \\text{total motion of point in frame}$\n",
    "- given a frame twist, what a point on the chassis will experience\n",
    "\n",
    "\n",
    "Things we measure:\n",
    "- parallel component of each pod\n",
    "\n",
    "Things we find:\n",
    "- Twist of robot frame\n",
    "- perpindicular component of each pod"
   ]
  },
  {
   "cell_type": "code",
   "execution_count": 114,
   "metadata": {},
   "outputs": [],
   "source": [
    "def body_twist_to_pod_motion(twist: Twist, pod_position: Matrix)-> Matrix:\n",
    "    return Matrix([\n",
    "        [1,0,-pod_position[1]],\n",
    "        [0,1,pod_position[0]],\n",
    "    ]) * Matrix([twist.dx, twist.dy, twist.dtheta])"
   ]
  },
  {
   "cell_type": "code",
   "execution_count": 115,
   "metadata": {},
   "outputs": [],
   "source": [
    "body_twist_to_pod_motion_matrix = Matrix([\n",
    "        [1,0,-symbols('p_y')],\n",
    "        [0,1,symbols('p_x')],\n",
    "    ])"
   ]
  },
  {
   "cell_type": "code",
   "execution_count": 116,
   "metadata": {},
   "outputs": [],
   "source": [
    "def rotation_matrix2d(theta) -> Matrix:\n",
    "    return Matrix([[cos(theta), -sin(theta)],[sin(theta), cos(theta)]])\n",
    "    "
   ]
  },
  {
   "cell_type": "code",
   "execution_count": 117,
   "metadata": {},
   "outputs": [],
   "source": [
    "body_twist_to_pod_wheel_motion_matrix = rotation_matrix2d(symbols('p_\\\\theta')) * body_twist_to_pod_motion_matrix\n",
    "# Vector of [parallel to wheel, perpindicular to wheel]"
   ]
  },
  {
   "cell_type": "code",
   "execution_count": 182,
   "metadata": {},
   "outputs": [],
   "source": [
    "Inv = Matrix([\n",
    "    body_twist_to_pod_wheel_motion_matrix.subs('p_x', 'p_x1').subs('p_y','p_y1').subs(symbols('p_\\\\theta'), symbols('p_\\\\theta1')),\n",
    "    body_twist_to_pod_wheel_motion_matrix.subs('p_x', 'p_x2').subs('p_y','p_y2').subs(symbols('p_\\\\theta'), symbols('p_\\\\theta2')),\n",
    "    body_twist_to_pod_wheel_motion_matrix.subs('p_x', 'p_x3').subs('p_y','p_y3').subs(symbols('p_\\\\theta'), symbols('p_\\\\theta3'))])"
   ]
  },
  {
   "cell_type": "code",
   "execution_count": 183,
   "metadata": {},
   "outputs": [
    {
     "data": {
      "text/latex": [
       "$\\displaystyle \\left[\\begin{matrix}\\cos{\\left(p_{\\theta1} \\right)} & - \\sin{\\left(p_{\\theta1} \\right)} & - p_{x1} \\sin{\\left(p_{\\theta1} \\right)} - p_{y1} \\cos{\\left(p_{\\theta1} \\right)}\\\\\\sin{\\left(p_{\\theta1} \\right)} & \\cos{\\left(p_{\\theta1} \\right)} & p_{x1} \\cos{\\left(p_{\\theta1} \\right)} - p_{y1} \\sin{\\left(p_{\\theta1} \\right)}\\\\\\cos{\\left(p_{\\theta2} \\right)} & - \\sin{\\left(p_{\\theta2} \\right)} & - p_{x2} \\sin{\\left(p_{\\theta2} \\right)} - p_{y2} \\cos{\\left(p_{\\theta2} \\right)}\\\\\\sin{\\left(p_{\\theta2} \\right)} & \\cos{\\left(p_{\\theta2} \\right)} & p_{x2} \\cos{\\left(p_{\\theta2} \\right)} - p_{y2} \\sin{\\left(p_{\\theta2} \\right)}\\\\\\cos{\\left(p_{\\theta3} \\right)} & - \\sin{\\left(p_{\\theta3} \\right)} & - p_{x3} \\sin{\\left(p_{\\theta3} \\right)} - p_{y3} \\cos{\\left(p_{\\theta3} \\right)}\\\\\\sin{\\left(p_{\\theta3} \\right)} & \\cos{\\left(p_{\\theta3} \\right)} & p_{x3} \\cos{\\left(p_{\\theta3} \\right)} - p_{y3} \\sin{\\left(p_{\\theta3} \\right)}\\end{matrix}\\right]$"
      ],
      "text/plain": [
       "Matrix([\n",
       "[cos(p_\\theta1), -sin(p_\\theta1), -p_x1*sin(p_\\theta1) - p_y1*cos(p_\\theta1)],\n",
       "[sin(p_\\theta1),  cos(p_\\theta1),  p_x1*cos(p_\\theta1) - p_y1*sin(p_\\theta1)],\n",
       "[cos(p_\\theta2), -sin(p_\\theta2), -p_x2*sin(p_\\theta2) - p_y2*cos(p_\\theta2)],\n",
       "[sin(p_\\theta2),  cos(p_\\theta2),  p_x2*cos(p_\\theta2) - p_y2*sin(p_\\theta2)],\n",
       "[cos(p_\\theta3), -sin(p_\\theta3), -p_x3*sin(p_\\theta3) - p_y3*cos(p_\\theta3)],\n",
       "[sin(p_\\theta3),  cos(p_\\theta3),  p_x3*cos(p_\\theta3) - p_y3*sin(p_\\theta3)]])"
      ]
     },
     "execution_count": 183,
     "metadata": {},
     "output_type": "execute_result"
    }
   ],
   "source": [
    "Inv"
   ]
  },
  {
   "cell_type": "code",
   "execution_count": 184,
   "metadata": {},
   "outputs": [],
   "source": [
    "InvFilled = Tr \\\n",
    "    .subs(symbols('p_\\\\theta1'),cfg1.theta_rad / radian) \\\n",
    "    .subs('p_x1', cfg1.p[0] / meter).subs('p_y1', cfg1.p[1] / meter) \\\n",
    "    .subs(symbols('p_\\\\theta2'),cfg2.theta_rad / radian) \\\n",
    "    .subs('p_x2', cfg2.p[0] / meter).subs('p_y2', cfg2.p[1] / meter) \\\n",
    "    .subs(symbols('p_\\\\theta3'),cfg3.theta_rad / radian) \\\n",
    "    .subs('p_x3', cfg3.p[0] / meter).subs('p_y3', cfg3.p[1] / meter)\n"
   ]
  },
  {
   "cell_type": "code",
   "execution_count": 185,
   "metadata": {},
   "outputs": [
    {
     "data": {
      "text/latex": [
       "$\\displaystyle \\left[\\begin{matrix}1 & 0 & -0.06985\\\\0 & 1 & -0.04445\\\\-1 & 0 & -0.06985\\\\0 & -1 & -0.008382\\\\0 & 1 & -0.2032\\\\-1 & 0 & -0.0127\\end{matrix}\\right]$"
      ],
      "text/plain": [
       "Matrix([\n",
       "[ 1,  0,  -0.06985],\n",
       "[ 0,  1,  -0.04445],\n",
       "[-1,  0,  -0.06985],\n",
       "[ 0, -1, -0.008382],\n",
       "[ 0,  1,   -0.2032],\n",
       "[-1,  0,   -0.0127]])"
      ]
     },
     "execution_count": 185,
     "metadata": {},
     "output_type": "execute_result"
    }
   ],
   "source": [
    "InvFilled"
   ]
  },
  {
   "cell_type": "code",
   "execution_count": 186,
   "metadata": {},
   "outputs": [
    {
     "data": {
      "text/latex": [
       "$\\displaystyle \\left[\\begin{matrix}\\cos{\\left(p_{\\theta1} \\right)} & - \\sin{\\left(p_{\\theta1} \\right)} & - p_{x1} \\sin{\\left(p_{\\theta1} \\right)} - p_{y1} \\cos{\\left(p_{\\theta1} \\right)}\\\\\\sin{\\left(p_{\\theta1} \\right)} & \\cos{\\left(p_{\\theta1} \\right)} & p_{x1} \\cos{\\left(p_{\\theta1} \\right)} - p_{y1} \\sin{\\left(p_{\\theta1} \\right)}\\\\\\cos{\\left(p_{\\theta2} \\right)} & - \\sin{\\left(p_{\\theta2} \\right)} & - p_{x2} \\sin{\\left(p_{\\theta2} \\right)} - p_{y2} \\cos{\\left(p_{\\theta2} \\right)}\\\\\\sin{\\left(p_{\\theta2} \\right)} & \\cos{\\left(p_{\\theta2} \\right)} & p_{x2} \\cos{\\left(p_{\\theta2} \\right)} - p_{y2} \\sin{\\left(p_{\\theta2} \\right)}\\\\\\cos{\\left(p_{\\theta3} \\right)} & - \\sin{\\left(p_{\\theta3} \\right)} & - p_{x3} \\sin{\\left(p_{\\theta3} \\right)} - p_{y3} \\cos{\\left(p_{\\theta3} \\right)}\\\\\\sin{\\left(p_{\\theta3} \\right)} & \\cos{\\left(p_{\\theta3} \\right)} & p_{x3} \\cos{\\left(p_{\\theta3} \\right)} - p_{y3} \\sin{\\left(p_{\\theta3} \\right)}\\end{matrix}\\right]$"
      ],
      "text/plain": [
       "Matrix([\n",
       "[cos(p_\\theta1), -sin(p_\\theta1), -p_x1*sin(p_\\theta1) - p_y1*cos(p_\\theta1)],\n",
       "[sin(p_\\theta1),  cos(p_\\theta1),  p_x1*cos(p_\\theta1) - p_y1*sin(p_\\theta1)],\n",
       "[cos(p_\\theta2), -sin(p_\\theta2), -p_x2*sin(p_\\theta2) - p_y2*cos(p_\\theta2)],\n",
       "[sin(p_\\theta2),  cos(p_\\theta2),  p_x2*cos(p_\\theta2) - p_y2*sin(p_\\theta2)],\n",
       "[cos(p_\\theta3), -sin(p_\\theta3), -p_x3*sin(p_\\theta3) - p_y3*cos(p_\\theta3)],\n",
       "[sin(p_\\theta3),  cos(p_\\theta3),  p_x3*cos(p_\\theta3) - p_y3*sin(p_\\theta3)]])"
      ]
     },
     "execution_count": 186,
     "metadata": {},
     "output_type": "execute_result"
    }
   ],
   "source": [
    "Inv"
   ]
  },
  {
   "cell_type": "code",
   "execution_count": 188,
   "metadata": {},
   "outputs": [],
   "source": [
    "BigMatrix = Inv * Matrix([symbols('dx'),symbols('dy'),symbols('d\\\\theta')])"
   ]
  },
  {
   "cell_type": "code",
   "execution_count": 189,
   "metadata": {},
   "outputs": [
    {
     "data": {
      "text/latex": [
       "$\\displaystyle \\left[\\begin{matrix}d\\theta \\left(- p_{x1} \\sin{\\left(p_{\\theta1} \\right)} - p_{y1} \\cos{\\left(p_{\\theta1} \\right)}\\right) + dx \\cos{\\left(p_{\\theta1} \\right)} - dy \\sin{\\left(p_{\\theta1} \\right)}\\\\d\\theta \\left(p_{x1} \\cos{\\left(p_{\\theta1} \\right)} - p_{y1} \\sin{\\left(p_{\\theta1} \\right)}\\right) + dx \\sin{\\left(p_{\\theta1} \\right)} + dy \\cos{\\left(p_{\\theta1} \\right)}\\\\d\\theta \\left(- p_{x2} \\sin{\\left(p_{\\theta2} \\right)} - p_{y2} \\cos{\\left(p_{\\theta2} \\right)}\\right) + dx \\cos{\\left(p_{\\theta2} \\right)} - dy \\sin{\\left(p_{\\theta2} \\right)}\\\\d\\theta \\left(p_{x2} \\cos{\\left(p_{\\theta2} \\right)} - p_{y2} \\sin{\\left(p_{\\theta2} \\right)}\\right) + dx \\sin{\\left(p_{\\theta2} \\right)} + dy \\cos{\\left(p_{\\theta2} \\right)}\\\\d\\theta \\left(- p_{x3} \\sin{\\left(p_{\\theta3} \\right)} - p_{y3} \\cos{\\left(p_{\\theta3} \\right)}\\right) + dx \\cos{\\left(p_{\\theta3} \\right)} - dy \\sin{\\left(p_{\\theta3} \\right)}\\\\d\\theta \\left(p_{x3} \\cos{\\left(p_{\\theta3} \\right)} - p_{y3} \\sin{\\left(p_{\\theta3} \\right)}\\right) + dx \\sin{\\left(p_{\\theta3} \\right)} + dy \\cos{\\left(p_{\\theta3} \\right)}\\end{matrix}\\right]$"
      ],
      "text/plain": [
       "Matrix([\n",
       "[d\\theta*(-p_x1*sin(p_\\theta1) - p_y1*cos(p_\\theta1)) + dx*cos(p_\\theta1) - dy*sin(p_\\theta1)],\n",
       "[ d\\theta*(p_x1*cos(p_\\theta1) - p_y1*sin(p_\\theta1)) + dx*sin(p_\\theta1) + dy*cos(p_\\theta1)],\n",
       "[d\\theta*(-p_x2*sin(p_\\theta2) - p_y2*cos(p_\\theta2)) + dx*cos(p_\\theta2) - dy*sin(p_\\theta2)],\n",
       "[ d\\theta*(p_x2*cos(p_\\theta2) - p_y2*sin(p_\\theta2)) + dx*sin(p_\\theta2) + dy*cos(p_\\theta2)],\n",
       "[d\\theta*(-p_x3*sin(p_\\theta3) - p_y3*cos(p_\\theta3)) + dx*cos(p_\\theta3) - dy*sin(p_\\theta3)],\n",
       "[ d\\theta*(p_x3*cos(p_\\theta3) - p_y3*sin(p_\\theta3)) + dx*sin(p_\\theta3) + dy*cos(p_\\theta3)]])"
      ]
     },
     "execution_count": 189,
     "metadata": {},
     "output_type": "execute_result"
    }
   ],
   "source": [
    "BigMatrix"
   ]
  },
  {
   "cell_type": "code",
   "execution_count": 197,
   "metadata": {},
   "outputs": [
    {
     "data": {
      "text/latex": [
       "$\\displaystyle \\left[\\begin{matrix}\\cos{\\left(p_{\\theta1} \\right)} & - \\sin{\\left(p_{\\theta1} \\right)} & - p_{x1} \\sin{\\left(p_{\\theta1} \\right)} - p_{y1} \\cos{\\left(p_{\\theta1} \\right)}\\\\\\sin{\\left(p_{\\theta1} \\right)} & \\cos{\\left(p_{\\theta1} \\right)} & p_{x1} \\cos{\\left(p_{\\theta1} \\right)} - p_{y1} \\sin{\\left(p_{\\theta1} \\right)}\\\\\\cos{\\left(p_{\\theta2} \\right)} & - \\sin{\\left(p_{\\theta2} \\right)} & - p_{x2} \\sin{\\left(p_{\\theta2} \\right)} - p_{y2} \\cos{\\left(p_{\\theta2} \\right)}\\\\\\sin{\\left(p_{\\theta2} \\right)} & \\cos{\\left(p_{\\theta2} \\right)} & p_{x2} \\cos{\\left(p_{\\theta2} \\right)} - p_{y2} \\sin{\\left(p_{\\theta2} \\right)}\\\\\\cos{\\left(p_{\\theta3} \\right)} & - \\sin{\\left(p_{\\theta3} \\right)} & - p_{x3} \\sin{\\left(p_{\\theta3} \\right)} - p_{y3} \\cos{\\left(p_{\\theta3} \\right)}\\\\\\sin{\\left(p_{\\theta3} \\right)} & \\cos{\\left(p_{\\theta3} \\right)} & p_{x3} \\cos{\\left(p_{\\theta3} \\right)} - p_{y3} \\sin{\\left(p_{\\theta3} \\right)}\\end{matrix}\\right]$"
      ],
      "text/plain": [
       "Matrix([\n",
       "[cos(p_\\theta1), -sin(p_\\theta1), -p_x1*sin(p_\\theta1) - p_y1*cos(p_\\theta1)],\n",
       "[sin(p_\\theta1),  cos(p_\\theta1),  p_x1*cos(p_\\theta1) - p_y1*sin(p_\\theta1)],\n",
       "[cos(p_\\theta2), -sin(p_\\theta2), -p_x2*sin(p_\\theta2) - p_y2*cos(p_\\theta2)],\n",
       "[sin(p_\\theta2),  cos(p_\\theta2),  p_x2*cos(p_\\theta2) - p_y2*sin(p_\\theta2)],\n",
       "[cos(p_\\theta3), -sin(p_\\theta3), -p_x3*sin(p_\\theta3) - p_y3*cos(p_\\theta3)],\n",
       "[sin(p_\\theta3),  cos(p_\\theta3),  p_x3*cos(p_\\theta3) - p_y3*sin(p_\\theta3)]])"
      ]
     },
     "execution_count": 197,
     "metadata": {},
     "output_type": "execute_result"
    }
   ],
   "source": [
    "Inv"
   ]
  },
  {
   "cell_type": "code",
   "execution_count": 201,
   "metadata": {},
   "outputs": [
    {
     "data": {
      "text/latex": [
       "$\\displaystyle \\left[\\begin{matrix}F_{x1} & F_{y1} & F_{\\theta1}\\\\F_{x1p} & F_{y1p} & F_{\\theta1p}\\\\F_{x2} & F_{y2} & F_{\\theta2}\\\\F_{x2p} & F_{y2p} & F_{\\theta2p}\\\\F_{x3} & F_{y3} & F_{\\theta3}\\\\F_{x3p} & F_{y3p} & F_{\\theta3p}\\end{matrix}\\right]$"
      ],
      "text/plain": [
       "Matrix([\n",
       "[ F_x1,  F_y1,  F_\\theta1],\n",
       "[F_x1p, F_y1p, F_\\theta1p],\n",
       "[ F_x2,  F_y2,  F_\\theta2],\n",
       "[F_x2p, F_y2p, F_\\theta2p],\n",
       "[ F_x3,  F_y3,  F_\\theta3],\n",
       "[F_x3p, F_y3p, F_\\theta3p]])"
      ]
     },
     "execution_count": 201,
     "metadata": {},
     "output_type": "execute_result"
    }
   ],
   "source": [
    "InvLow = Matrix([\n",
    "    ['F_x1','F_y1',symbols('F_\\\\theta1')], \n",
    "    ['F_x1p','F_y1p',symbols('F_\\\\theta1p')], \n",
    "    ['F_x2','F_y2',symbols('F_\\\\theta2')],\n",
    "    ['F_x2p','F_y2p',symbols('F_\\\\theta2p')],\n",
    "    ['F_x3','F_y3',symbols('F_\\\\theta3')],\n",
    "    ['F_x3p','F_y3p',symbols('F_\\\\theta3p')]\n",
    "    ])\n",
    "InvLow"
   ]
  },
  {
   "cell_type": "code",
   "execution_count": 202,
   "metadata": {},
   "outputs": [
    {
     "ename": "KeyboardInterrupt",
     "evalue": "",
     "output_type": "error",
     "traceback": [
      "\u001b[0;31m---------------------------------------------------------------------------\u001b[0m",
      "\u001b[0;31mKeyboardInterrupt\u001b[0m                         Traceback (most recent call last)",
      "Cell \u001b[0;32mIn[202], line 1\u001b[0m\n\u001b[0;32m----> 1\u001b[0m \u001b[43mInvLow\u001b[49m\u001b[38;5;241;43m.\u001b[39;49m\u001b[43mpinv\u001b[49m\u001b[43m(\u001b[49m\u001b[43m)\u001b[49m\n",
      "File \u001b[0;32m/usr/lib/python3.12/site-packages/sympy/matrices/matrixbase.py:5195\u001b[0m, in \u001b[0;36mMatrixBase.pinv\u001b[0;34m(self, method)\u001b[0m\n\u001b[1;32m   5194\u001b[0m \u001b[38;5;28;01mdef\u001b[39;00m \u001b[38;5;21mpinv\u001b[39m(\u001b[38;5;28mself\u001b[39m, method\u001b[38;5;241m=\u001b[39m\u001b[38;5;124m'\u001b[39m\u001b[38;5;124mRD\u001b[39m\u001b[38;5;124m'\u001b[39m):\n\u001b[0;32m-> 5195\u001b[0m     \u001b[38;5;28;01mreturn\u001b[39;00m \u001b[43m_pinv\u001b[49m\u001b[43m(\u001b[49m\u001b[38;5;28;43mself\u001b[39;49m\u001b[43m,\u001b[49m\u001b[43m \u001b[49m\u001b[43mmethod\u001b[49m\u001b[38;5;241;43m=\u001b[39;49m\u001b[43mmethod\u001b[49m\u001b[43m)\u001b[49m\n",
      "File \u001b[0;32m/usr/lib/python3.12/site-packages/sympy/matrices/inverse.py:134\u001b[0m, in \u001b[0;36m_pinv\u001b[0;34m(M, method)\u001b[0m\n\u001b[1;32m    131\u001b[0m     \u001b[38;5;28;01mreturn\u001b[39;00m M\u001b[38;5;241m.\u001b[39mH\n\u001b[1;32m    133\u001b[0m \u001b[38;5;28;01mif\u001b[39;00m method \u001b[38;5;241m==\u001b[39m \u001b[38;5;124m'\u001b[39m\u001b[38;5;124mRD\u001b[39m\u001b[38;5;124m'\u001b[39m:\n\u001b[0;32m--> 134\u001b[0m     \u001b[38;5;28;01mreturn\u001b[39;00m \u001b[43m_pinv_rank_decomposition\u001b[49m\u001b[43m(\u001b[49m\u001b[43mM\u001b[49m\u001b[43m)\u001b[49m\n\u001b[1;32m    135\u001b[0m \u001b[38;5;28;01melif\u001b[39;00m method \u001b[38;5;241m==\u001b[39m \u001b[38;5;124m'\u001b[39m\u001b[38;5;124mED\u001b[39m\u001b[38;5;124m'\u001b[39m:\n\u001b[1;32m    136\u001b[0m     \u001b[38;5;28;01mreturn\u001b[39;00m _pinv_diagonalization(M)\n",
      "File \u001b[0;32m/usr/lib/python3.12/site-packages/sympy/matrices/inverse.py:39\u001b[0m, in \u001b[0;36m_pinv_rank_decomposition\u001b[0;34m(M)\u001b[0m\n\u001b[1;32m     35\u001b[0m     \u001b[38;5;28;01mreturn\u001b[39;00m M\u001b[38;5;241m.\u001b[39mH\n\u001b[1;32m     37\u001b[0m B, C \u001b[38;5;241m=\u001b[39m M\u001b[38;5;241m.\u001b[39mrank_decomposition()\n\u001b[0;32m---> 39\u001b[0m Bp \u001b[38;5;241m=\u001b[39m \u001b[43m_pinv_full_rank\u001b[49m\u001b[43m(\u001b[49m\u001b[43mB\u001b[49m\u001b[43m)\u001b[49m\n\u001b[1;32m     40\u001b[0m Cp \u001b[38;5;241m=\u001b[39m _pinv_full_rank(C)\n\u001b[1;32m     42\u001b[0m \u001b[38;5;28;01mreturn\u001b[39;00m Cp\u001b[38;5;241m.\u001b[39mmultiply(Bp)\n",
      "File \u001b[0;32m/usr/lib/python3.12/site-packages/sympy/matrices/inverse.py:22\u001b[0m, in \u001b[0;36m_pinv_full_rank\u001b[0;34m(M)\u001b[0m\n\u001b[1;32m     19\u001b[0m     \u001b[38;5;28;01mreturn\u001b[39;00m M\u001b[38;5;241m.\u001b[39mH\n\u001b[1;32m     21\u001b[0m \u001b[38;5;28;01mif\u001b[39;00m M\u001b[38;5;241m.\u001b[39mrows \u001b[38;5;241m>\u001b[39m\u001b[38;5;241m=\u001b[39m M\u001b[38;5;241m.\u001b[39mcols:\n\u001b[0;32m---> 22\u001b[0m     \u001b[38;5;28;01mreturn\u001b[39;00m \u001b[43mM\u001b[49m\u001b[38;5;241;43m.\u001b[39;49m\u001b[43mH\u001b[49m\u001b[38;5;241;43m.\u001b[39;49m\u001b[43mmultiply\u001b[49m\u001b[43m(\u001b[49m\u001b[43mM\u001b[49m\u001b[43m)\u001b[49m\u001b[38;5;241;43m.\u001b[39;49m\u001b[43minv\u001b[49m\u001b[43m(\u001b[49m\u001b[43m)\u001b[49m\u001b[38;5;241m.\u001b[39mmultiply(M\u001b[38;5;241m.\u001b[39mH)\n\u001b[1;32m     23\u001b[0m \u001b[38;5;28;01melse\u001b[39;00m:\n\u001b[1;32m     24\u001b[0m     \u001b[38;5;28;01mreturn\u001b[39;00m M\u001b[38;5;241m.\u001b[39mH\u001b[38;5;241m.\u001b[39mmultiply(M\u001b[38;5;241m.\u001b[39mmultiply(M\u001b[38;5;241m.\u001b[39mH)\u001b[38;5;241m.\u001b[39minv())\n",
      "File \u001b[0;32m/usr/lib/python3.12/site-packages/sympy/matrices/matrixbase.py:5219\u001b[0m, in \u001b[0;36mMatrixBase.inv\u001b[0;34m(self, method, iszerofunc, try_block_diag)\u001b[0m\n\u001b[1;32m   5218\u001b[0m \u001b[38;5;28;01mdef\u001b[39;00m \u001b[38;5;21minv\u001b[39m(\u001b[38;5;28mself\u001b[39m, method\u001b[38;5;241m=\u001b[39m\u001b[38;5;28;01mNone\u001b[39;00m, iszerofunc\u001b[38;5;241m=\u001b[39m_iszero, try_block_diag\u001b[38;5;241m=\u001b[39m\u001b[38;5;28;01mFalse\u001b[39;00m):\n\u001b[0;32m-> 5219\u001b[0m     \u001b[38;5;28;01mreturn\u001b[39;00m \u001b[43m_inv\u001b[49m\u001b[43m(\u001b[49m\u001b[38;5;28;43mself\u001b[39;49m\u001b[43m,\u001b[49m\u001b[43m \u001b[49m\u001b[43mmethod\u001b[49m\u001b[38;5;241;43m=\u001b[39;49m\u001b[43mmethod\u001b[49m\u001b[43m,\u001b[49m\u001b[43m \u001b[49m\u001b[43miszerofunc\u001b[49m\u001b[38;5;241;43m=\u001b[39;49m\u001b[43miszerofunc\u001b[49m\u001b[43m,\u001b[49m\n\u001b[1;32m   5220\u001b[0m \u001b[43m            \u001b[49m\u001b[43mtry_block_diag\u001b[49m\u001b[38;5;241;43m=\u001b[39;49m\u001b[43mtry_block_diag\u001b[49m\u001b[43m)\u001b[49m\n",
      "File \u001b[0;32m/usr/lib/python3.12/site-packages/sympy/matrices/inverse.py:508\u001b[0m, in \u001b[0;36m_inv\u001b[0;34m(M, method, iszerofunc, try_block_diag)\u001b[0m\n\u001b[1;32m    506\u001b[0m     rv \u001b[38;5;241m=\u001b[39m _inv_DM(dM, cancel\u001b[38;5;241m=\u001b[39m\u001b[38;5;28;01mFalse\u001b[39;00m)\n\u001b[1;32m    507\u001b[0m \u001b[38;5;28;01melif\u001b[39;00m method \u001b[38;5;241m==\u001b[39m \u001b[38;5;124m\"\u001b[39m\u001b[38;5;124mGE\u001b[39m\u001b[38;5;124m\"\u001b[39m:\n\u001b[0;32m--> 508\u001b[0m     rv \u001b[38;5;241m=\u001b[39m \u001b[43mM\u001b[49m\u001b[38;5;241;43m.\u001b[39;49m\u001b[43minverse_GE\u001b[49m\u001b[43m(\u001b[49m\u001b[43miszerofunc\u001b[49m\u001b[38;5;241;43m=\u001b[39;49m\u001b[43miszerofunc\u001b[49m\u001b[43m)\u001b[49m\n\u001b[1;32m    509\u001b[0m \u001b[38;5;28;01melif\u001b[39;00m method \u001b[38;5;241m==\u001b[39m \u001b[38;5;124m\"\u001b[39m\u001b[38;5;124mLU\u001b[39m\u001b[38;5;124m\"\u001b[39m:\n\u001b[1;32m    510\u001b[0m     rv \u001b[38;5;241m=\u001b[39m M\u001b[38;5;241m.\u001b[39minverse_LU(iszerofunc\u001b[38;5;241m=\u001b[39miszerofunc)\n",
      "File \u001b[0;32m/usr/lib/python3.12/site-packages/sympy/matrices/matrixbase.py:5204\u001b[0m, in \u001b[0;36mMatrixBase.inverse_GE\u001b[0;34m(self, iszerofunc)\u001b[0m\n\u001b[1;32m   5203\u001b[0m \u001b[38;5;28;01mdef\u001b[39;00m \u001b[38;5;21minverse_GE\u001b[39m(\u001b[38;5;28mself\u001b[39m, iszerofunc\u001b[38;5;241m=\u001b[39m_iszero):\n\u001b[0;32m-> 5204\u001b[0m     \u001b[38;5;28;01mreturn\u001b[39;00m \u001b[43m_inv_GE\u001b[49m\u001b[43m(\u001b[49m\u001b[38;5;28;43mself\u001b[39;49m\u001b[43m,\u001b[49m\u001b[43m \u001b[49m\u001b[43miszerofunc\u001b[49m\u001b[38;5;241;43m=\u001b[39;49m\u001b[43miszerofunc\u001b[49m\u001b[43m)\u001b[49m\n",
      "File \u001b[0;32m/usr/lib/python3.12/site-packages/sympy/matrices/inverse.py:196\u001b[0m, in \u001b[0;36m_inv_GE\u001b[0;34m(M, iszerofunc)\u001b[0m\n\u001b[1;32m    193\u001b[0m     \u001b[38;5;28;01mraise\u001b[39;00m NonSquareMatrixError(\u001b[38;5;124m\"\u001b[39m\u001b[38;5;124mA Matrix must be square to invert.\u001b[39m\u001b[38;5;124m\"\u001b[39m)\n\u001b[1;32m    195\u001b[0m big \u001b[38;5;241m=\u001b[39m Matrix\u001b[38;5;241m.\u001b[39mhstack(M\u001b[38;5;241m.\u001b[39mas_mutable(), Matrix\u001b[38;5;241m.\u001b[39meye(M\u001b[38;5;241m.\u001b[39mrows))\n\u001b[0;32m--> 196\u001b[0m red \u001b[38;5;241m=\u001b[39m \u001b[43mbig\u001b[49m\u001b[38;5;241;43m.\u001b[39;49m\u001b[43mrref\u001b[49m\u001b[43m(\u001b[49m\u001b[43miszerofunc\u001b[49m\u001b[38;5;241;43m=\u001b[39;49m\u001b[43miszerofunc\u001b[49m\u001b[43m,\u001b[49m\u001b[43m \u001b[49m\u001b[43msimplify\u001b[49m\u001b[38;5;241;43m=\u001b[39;49m\u001b[38;5;28;43;01mTrue\u001b[39;49;00m\u001b[43m)\u001b[49m[\u001b[38;5;241m0\u001b[39m]\n\u001b[1;32m    198\u001b[0m \u001b[38;5;28;01mif\u001b[39;00m \u001b[38;5;28many\u001b[39m(iszerofunc(red[j, j]) \u001b[38;5;28;01mfor\u001b[39;00m j \u001b[38;5;129;01min\u001b[39;00m \u001b[38;5;28mrange\u001b[39m(red\u001b[38;5;241m.\u001b[39mrows)):\n\u001b[1;32m    199\u001b[0m     \u001b[38;5;28;01mraise\u001b[39;00m NonInvertibleMatrixError(\u001b[38;5;124m\"\u001b[39m\u001b[38;5;124mMatrix det == 0; not invertible.\u001b[39m\u001b[38;5;124m\"\u001b[39m)\n",
      "File \u001b[0;32m/usr/lib/python3.12/site-packages/sympy/matrices/matrixbase.py:3141\u001b[0m, in \u001b[0;36mMatrixBase.rref\u001b[0;34m(self, iszerofunc, simplify, pivots, normalize_last)\u001b[0m\n\u001b[1;32m   3139\u001b[0m \u001b[38;5;28;01mdef\u001b[39;00m \u001b[38;5;21mrref\u001b[39m(\u001b[38;5;28mself\u001b[39m, iszerofunc\u001b[38;5;241m=\u001b[39m_iszero, simplify\u001b[38;5;241m=\u001b[39m\u001b[38;5;28;01mFalse\u001b[39;00m, pivots\u001b[38;5;241m=\u001b[39m\u001b[38;5;28;01mTrue\u001b[39;00m,\n\u001b[1;32m   3140\u001b[0m         normalize_last\u001b[38;5;241m=\u001b[39m\u001b[38;5;28;01mTrue\u001b[39;00m):\n\u001b[0;32m-> 3141\u001b[0m     \u001b[38;5;28;01mreturn\u001b[39;00m \u001b[43m_rref\u001b[49m\u001b[43m(\u001b[49m\u001b[38;5;28;43mself\u001b[39;49m\u001b[43m,\u001b[49m\u001b[43m \u001b[49m\u001b[43miszerofunc\u001b[49m\u001b[38;5;241;43m=\u001b[39;49m\u001b[43miszerofunc\u001b[49m\u001b[43m,\u001b[49m\u001b[43m \u001b[49m\u001b[43msimplify\u001b[49m\u001b[38;5;241;43m=\u001b[39;49m\u001b[43msimplify\u001b[49m\u001b[43m,\u001b[49m\n\u001b[1;32m   3142\u001b[0m \u001b[43m        \u001b[49m\u001b[43mpivots\u001b[49m\u001b[38;5;241;43m=\u001b[39;49m\u001b[43mpivots\u001b[49m\u001b[43m,\u001b[49m\u001b[43m \u001b[49m\u001b[43mnormalize_last\u001b[49m\u001b[38;5;241;43m=\u001b[39;49m\u001b[43mnormalize_last\u001b[49m\u001b[43m)\u001b[49m\n",
      "File \u001b[0;32m/usr/lib/python3.12/site-packages/sympy/matrices/reductions.py:381\u001b[0m, in \u001b[0;36m_rref\u001b[0;34m(M, iszerofunc, simplify, pivots, normalize_last)\u001b[0m\n\u001b[1;32m    378\u001b[0m     \u001b[38;5;28;01melse\u001b[39;00m:\n\u001b[1;32m    379\u001b[0m         simpfunc \u001b[38;5;241m=\u001b[39m _simplify\n\u001b[0;32m--> 381\u001b[0m     mat, pivot_cols, _ \u001b[38;5;241m=\u001b[39m \u001b[43m_row_reduce\u001b[49m\u001b[43m(\u001b[49m\u001b[43mM\u001b[49m\u001b[43m,\u001b[49m\u001b[43m \u001b[49m\u001b[43miszerofunc\u001b[49m\u001b[43m,\u001b[49m\u001b[43m \u001b[49m\u001b[43msimpfunc\u001b[49m\u001b[43m,\u001b[49m\n\u001b[1;32m    382\u001b[0m \u001b[43m            \u001b[49m\u001b[43mnormalize_last\u001b[49m\u001b[43m,\u001b[49m\u001b[43m \u001b[49m\u001b[43mnormalize\u001b[49m\u001b[38;5;241;43m=\u001b[39;49m\u001b[38;5;28;43;01mTrue\u001b[39;49;00m\u001b[43m,\u001b[49m\u001b[43m \u001b[49m\u001b[43mzero_above\u001b[49m\u001b[38;5;241;43m=\u001b[39;49m\u001b[38;5;28;43;01mTrue\u001b[39;49;00m\u001b[43m)\u001b[49m\n\u001b[1;32m    384\u001b[0m \u001b[38;5;28;01mif\u001b[39;00m pivots:\n\u001b[1;32m    385\u001b[0m     \u001b[38;5;28;01mreturn\u001b[39;00m mat, pivot_cols\n",
      "File \u001b[0;32m/usr/lib/python3.12/site-packages/sympy/matrices/reductions.py:127\u001b[0m, in \u001b[0;36m_row_reduce\u001b[0;34m(M, iszerofunc, simpfunc, normalize_last, normalize, zero_above)\u001b[0m\n\u001b[1;32m    124\u001b[0m \u001b[38;5;28;01mdef\u001b[39;00m \u001b[38;5;21m_row_reduce\u001b[39m(M, iszerofunc, simpfunc, normalize_last\u001b[38;5;241m=\u001b[39m\u001b[38;5;28;01mTrue\u001b[39;00m,\n\u001b[1;32m    125\u001b[0m                 normalize\u001b[38;5;241m=\u001b[39m\u001b[38;5;28;01mTrue\u001b[39;00m, zero_above\u001b[38;5;241m=\u001b[39m\u001b[38;5;28;01mTrue\u001b[39;00m):\n\u001b[0;32m--> 127\u001b[0m     mat, pivot_cols, swaps \u001b[38;5;241m=\u001b[39m \u001b[43m_row_reduce_list\u001b[49m\u001b[43m(\u001b[49m\u001b[38;5;28;43mlist\u001b[39;49m\u001b[43m(\u001b[49m\u001b[43mM\u001b[49m\u001b[43m)\u001b[49m\u001b[43m,\u001b[49m\u001b[43m \u001b[49m\u001b[43mM\u001b[49m\u001b[38;5;241;43m.\u001b[39;49m\u001b[43mrows\u001b[49m\u001b[43m,\u001b[49m\u001b[43m \u001b[49m\u001b[43mM\u001b[49m\u001b[38;5;241;43m.\u001b[39;49m\u001b[43mcols\u001b[49m\u001b[43m,\u001b[49m\u001b[43m \u001b[49m\u001b[43mM\u001b[49m\u001b[38;5;241;43m.\u001b[39;49m\u001b[43mone\u001b[49m\u001b[43m,\u001b[49m\n\u001b[1;32m    128\u001b[0m \u001b[43m            \u001b[49m\u001b[43miszerofunc\u001b[49m\u001b[43m,\u001b[49m\u001b[43m \u001b[49m\u001b[43msimpfunc\u001b[49m\u001b[43m,\u001b[49m\u001b[43m \u001b[49m\u001b[43mnormalize_last\u001b[49m\u001b[38;5;241;43m=\u001b[39;49m\u001b[43mnormalize_last\u001b[49m\u001b[43m,\u001b[49m\n\u001b[1;32m    129\u001b[0m \u001b[43m            \u001b[49m\u001b[43mnormalize\u001b[49m\u001b[38;5;241;43m=\u001b[39;49m\u001b[43mnormalize\u001b[49m\u001b[43m,\u001b[49m\u001b[43m \u001b[49m\u001b[43mzero_above\u001b[49m\u001b[38;5;241;43m=\u001b[39;49m\u001b[43mzero_above\u001b[49m\u001b[43m)\u001b[49m\n\u001b[1;32m    131\u001b[0m     \u001b[38;5;28;01mreturn\u001b[39;00m M\u001b[38;5;241m.\u001b[39m_new(M\u001b[38;5;241m.\u001b[39mrows, M\u001b[38;5;241m.\u001b[39mcols, mat), pivot_cols, swaps\n",
      "File \u001b[0;32m/usr/lib/python3.12/site-packages/sympy/matrices/reductions.py:109\u001b[0m, in \u001b[0;36m_row_reduce_list\u001b[0;34m(mat, rows, cols, one, iszerofunc, simpfunc, normalize_last, normalize, zero_above)\u001b[0m\n\u001b[1;32m    106\u001b[0m         \u001b[38;5;28;01mif\u001b[39;00m iszerofunc(val):\n\u001b[1;32m    107\u001b[0m             \u001b[38;5;28;01mcontinue\u001b[39;00m\n\u001b[0;32m--> 109\u001b[0m         \u001b[43mcross_cancel\u001b[49m\u001b[43m(\u001b[49m\u001b[43mpivot_val\u001b[49m\u001b[43m,\u001b[49m\u001b[43m \u001b[49m\u001b[43mrow\u001b[49m\u001b[43m,\u001b[49m\u001b[43m \u001b[49m\u001b[43mval\u001b[49m\u001b[43m,\u001b[49m\u001b[43m \u001b[49m\u001b[43mpiv_row\u001b[49m\u001b[43m)\u001b[49m\n\u001b[1;32m    110\u001b[0m     piv_row \u001b[38;5;241m+\u001b[39m\u001b[38;5;241m=\u001b[39m \u001b[38;5;241m1\u001b[39m\n\u001b[1;32m    112\u001b[0m \u001b[38;5;66;03m# normalize each row\u001b[39;00m\n",
      "File \u001b[0;32m/usr/lib/python3.12/site-packages/sympy/matrices/reductions.py:58\u001b[0m, in \u001b[0;36m_row_reduce_list.<locals>.cross_cancel\u001b[0;34m(a, i, b, j)\u001b[0m\n\u001b[1;32m     56\u001b[0m q \u001b[38;5;241m=\u001b[39m (j \u001b[38;5;241m-\u001b[39m i)\u001b[38;5;241m*\u001b[39mcols\n\u001b[1;32m     57\u001b[0m \u001b[38;5;28;01mfor\u001b[39;00m p \u001b[38;5;129;01min\u001b[39;00m \u001b[38;5;28mrange\u001b[39m(i\u001b[38;5;241m*\u001b[39mcols, (i \u001b[38;5;241m+\u001b[39m \u001b[38;5;241m1\u001b[39m)\u001b[38;5;241m*\u001b[39mcols):\n\u001b[0;32m---> 58\u001b[0m     mat[p] \u001b[38;5;241m=\u001b[39m \u001b[43misimp\u001b[49m\u001b[43m(\u001b[49m\u001b[43ma\u001b[49m\u001b[38;5;241;43m*\u001b[39;49m\u001b[43mmat\u001b[49m\u001b[43m[\u001b[49m\u001b[43mp\u001b[49m\u001b[43m]\u001b[49m\u001b[43m \u001b[49m\u001b[38;5;241;43m-\u001b[39;49m\u001b[43m \u001b[49m\u001b[43mb\u001b[49m\u001b[38;5;241;43m*\u001b[39;49m\u001b[43mmat\u001b[49m\u001b[43m[\u001b[49m\u001b[43mp\u001b[49m\u001b[43m \u001b[49m\u001b[38;5;241;43m+\u001b[39;49m\u001b[43m \u001b[49m\u001b[43mq\u001b[49m\u001b[43m]\u001b[49m\u001b[43m)\u001b[49m\n",
      "File \u001b[0;32m/usr/lib/python3.12/site-packages/sympy/matrices/utilities.py:27\u001b[0m, in \u001b[0;36m_dotprodsimp\u001b[0;34m(expr, withsimp)\u001b[0m\n\u001b[1;32m     25\u001b[0m \u001b[38;5;250m\u001b[39m\u001b[38;5;124;03m\"\"\"Wrapper for simplify.dotprodsimp to avoid circular imports.\"\"\"\u001b[39;00m\n\u001b[1;32m     26\u001b[0m \u001b[38;5;28;01mfrom\u001b[39;00m \u001b[38;5;21;01msympy\u001b[39;00m\u001b[38;5;21;01m.\u001b[39;00m\u001b[38;5;21;01msimplify\u001b[39;00m\u001b[38;5;21;01m.\u001b[39;00m\u001b[38;5;21;01msimplify\u001b[39;00m \u001b[38;5;28;01mimport\u001b[39;00m dotprodsimp \u001b[38;5;28;01mas\u001b[39;00m dps\n\u001b[0;32m---> 27\u001b[0m \u001b[38;5;28;01mreturn\u001b[39;00m \u001b[43mdps\u001b[49m\u001b[43m(\u001b[49m\u001b[43mexpr\u001b[49m\u001b[43m,\u001b[49m\u001b[43m \u001b[49m\u001b[43mwithsimp\u001b[49m\u001b[38;5;241;43m=\u001b[39;49m\u001b[43mwithsimp\u001b[49m\u001b[43m)\u001b[49m\n",
      "File \u001b[0;32m/usr/lib/python3.12/site-packages/sympy/simplify/simplify.py:2084\u001b[0m, in \u001b[0;36mdotprodsimp\u001b[0;34m(expr, withsimp)\u001b[0m\n\u001b[1;32m   2081\u001b[0m simplified \u001b[38;5;241m=\u001b[39m \u001b[38;5;28;01mFalse\u001b[39;00m \u001b[38;5;66;03m# doesn't really mean simplified, rather \"can simplify again\"\u001b[39;00m\n\u001b[1;32m   2083\u001b[0m \u001b[38;5;28;01mif\u001b[39;00m \u001b[38;5;28misinstance\u001b[39m(expr, Basic) \u001b[38;5;129;01mand\u001b[39;00m (expr\u001b[38;5;241m.\u001b[39mis_Add \u001b[38;5;129;01mor\u001b[39;00m expr\u001b[38;5;241m.\u001b[39mis_Mul \u001b[38;5;129;01mor\u001b[39;00m expr\u001b[38;5;241m.\u001b[39mis_Pow):\n\u001b[0;32m-> 2084\u001b[0m     expr2 \u001b[38;5;241m=\u001b[39m \u001b[43mexpr\u001b[49m\u001b[38;5;241;43m.\u001b[39;49m\u001b[43mexpand\u001b[49m\u001b[43m(\u001b[49m\u001b[43mdeep\u001b[49m\u001b[38;5;241;43m=\u001b[39;49m\u001b[38;5;28;43;01mTrue\u001b[39;49;00m\u001b[43m,\u001b[49m\u001b[43m \u001b[49m\u001b[43mmodulus\u001b[49m\u001b[38;5;241;43m=\u001b[39;49m\u001b[38;5;28;43;01mNone\u001b[39;49;00m\u001b[43m,\u001b[49m\u001b[43m \u001b[49m\u001b[43mpower_base\u001b[49m\u001b[38;5;241;43m=\u001b[39;49m\u001b[38;5;28;43;01mFalse\u001b[39;49;00m\u001b[43m,\u001b[49m\n\u001b[1;32m   2085\u001b[0m \u001b[43m        \u001b[49m\u001b[43mpower_exp\u001b[49m\u001b[38;5;241;43m=\u001b[39;49m\u001b[38;5;28;43;01mFalse\u001b[39;49;00m\u001b[43m,\u001b[49m\u001b[43m \u001b[49m\u001b[43mmul\u001b[49m\u001b[38;5;241;43m=\u001b[39;49m\u001b[38;5;28;43;01mTrue\u001b[39;49;00m\u001b[43m,\u001b[49m\u001b[43m \u001b[49m\u001b[43mlog\u001b[49m\u001b[38;5;241;43m=\u001b[39;49m\u001b[38;5;28;43;01mFalse\u001b[39;49;00m\u001b[43m,\u001b[49m\u001b[43m \u001b[49m\u001b[43mmultinomial\u001b[49m\u001b[38;5;241;43m=\u001b[39;49m\u001b[38;5;28;43;01mTrue\u001b[39;49;00m\u001b[43m,\u001b[49m\u001b[43m \u001b[49m\u001b[43mbasic\u001b[49m\u001b[38;5;241;43m=\u001b[39;49m\u001b[38;5;28;43;01mFalse\u001b[39;49;00m\u001b[43m)\u001b[49m\n\u001b[1;32m   2087\u001b[0m     \u001b[38;5;28;01mif\u001b[39;00m expr2 \u001b[38;5;241m!=\u001b[39m expr:\n\u001b[1;32m   2088\u001b[0m         expr       \u001b[38;5;241m=\u001b[39m expr2\n",
      "File \u001b[0;32m/usr/lib/python3.12/site-packages/sympy/core/cache.py:72\u001b[0m, in \u001b[0;36m__cacheit.<locals>.func_wrapper.<locals>.wrapper\u001b[0;34m(*args, **kwargs)\u001b[0m\n\u001b[1;32m     69\u001b[0m \u001b[38;5;129m@wraps\u001b[39m(func)\n\u001b[1;32m     70\u001b[0m \u001b[38;5;28;01mdef\u001b[39;00m \u001b[38;5;21mwrapper\u001b[39m(\u001b[38;5;241m*\u001b[39margs, \u001b[38;5;241m*\u001b[39m\u001b[38;5;241m*\u001b[39mkwargs):\n\u001b[1;32m     71\u001b[0m     \u001b[38;5;28;01mtry\u001b[39;00m:\n\u001b[0;32m---> 72\u001b[0m         retval \u001b[38;5;241m=\u001b[39m \u001b[43mcfunc\u001b[49m\u001b[43m(\u001b[49m\u001b[38;5;241;43m*\u001b[39;49m\u001b[43margs\u001b[49m\u001b[43m,\u001b[49m\u001b[43m \u001b[49m\u001b[38;5;241;43m*\u001b[39;49m\u001b[38;5;241;43m*\u001b[39;49m\u001b[43mkwargs\u001b[49m\u001b[43m)\u001b[49m\n\u001b[1;32m     73\u001b[0m     \u001b[38;5;28;01mexcept\u001b[39;00m \u001b[38;5;167;01mTypeError\u001b[39;00m \u001b[38;5;28;01mas\u001b[39;00m e:\n\u001b[1;32m     74\u001b[0m         \u001b[38;5;28;01mif\u001b[39;00m \u001b[38;5;129;01mnot\u001b[39;00m e\u001b[38;5;241m.\u001b[39margs \u001b[38;5;129;01mor\u001b[39;00m \u001b[38;5;129;01mnot\u001b[39;00m e\u001b[38;5;241m.\u001b[39margs[\u001b[38;5;241m0\u001b[39m]\u001b[38;5;241m.\u001b[39mstartswith(\u001b[38;5;124m'\u001b[39m\u001b[38;5;124munhashable type:\u001b[39m\u001b[38;5;124m'\u001b[39m):\n",
      "File \u001b[0;32m/usr/lib/python3.12/site-packages/sympy/core/expr.py:3673\u001b[0m, in \u001b[0;36mExpr.expand\u001b[0;34m(self, deep, modulus, power_base, power_exp, mul, log, multinomial, basic, **hints)\u001b[0m\n\u001b[1;32m   3671\u001b[0m     \u001b[38;5;28;01mif\u001b[39;00m use_hint:\n\u001b[1;32m   3672\u001b[0m         hint \u001b[38;5;241m=\u001b[39m \u001b[38;5;124m'\u001b[39m\u001b[38;5;124m_eval_expand_\u001b[39m\u001b[38;5;124m'\u001b[39m \u001b[38;5;241m+\u001b[39m hint\n\u001b[0;32m-> 3673\u001b[0m         expr, hit \u001b[38;5;241m=\u001b[39m \u001b[43mExpr\u001b[49m\u001b[38;5;241;43m.\u001b[39;49m\u001b[43m_expand_hint\u001b[49m\u001b[43m(\u001b[49m\u001b[43mexpr\u001b[49m\u001b[43m,\u001b[49m\u001b[43m \u001b[49m\u001b[43mhint\u001b[49m\u001b[43m,\u001b[49m\u001b[43m \u001b[49m\u001b[43mdeep\u001b[49m\u001b[38;5;241;43m=\u001b[39;49m\u001b[43mdeep\u001b[49m\u001b[43m,\u001b[49m\u001b[43m \u001b[49m\u001b[38;5;241;43m*\u001b[39;49m\u001b[38;5;241;43m*\u001b[39;49m\u001b[43mhints\u001b[49m\u001b[43m)\u001b[49m\n\u001b[1;32m   3675\u001b[0m \u001b[38;5;28;01mwhile\u001b[39;00m \u001b[38;5;28;01mTrue\u001b[39;00m:\n\u001b[1;32m   3676\u001b[0m     was \u001b[38;5;241m=\u001b[39m expr\n",
      "File \u001b[0;32m/usr/lib/python3.12/site-packages/sympy/core/expr.py:3612\u001b[0m, in \u001b[0;36mExpr._expand_hint\u001b[0;34m(expr, hint, deep, **hints)\u001b[0m\n\u001b[1;32m   3609\u001b[0m         expr \u001b[38;5;241m=\u001b[39m expr\u001b[38;5;241m.\u001b[39mfunc(\u001b[38;5;241m*\u001b[39msargs)\n\u001b[1;32m   3611\u001b[0m \u001b[38;5;28;01mif\u001b[39;00m \u001b[38;5;28mhasattr\u001b[39m(expr, hint):\n\u001b[0;32m-> 3612\u001b[0m     newexpr \u001b[38;5;241m=\u001b[39m \u001b[38;5;28;43mgetattr\u001b[39;49m\u001b[43m(\u001b[49m\u001b[43mexpr\u001b[49m\u001b[43m,\u001b[49m\u001b[43m \u001b[49m\u001b[43mhint\u001b[49m\u001b[43m)\u001b[49m\u001b[43m(\u001b[49m\u001b[38;5;241;43m*\u001b[39;49m\u001b[38;5;241;43m*\u001b[39;49m\u001b[43mhints\u001b[49m\u001b[43m)\u001b[49m\n\u001b[1;32m   3613\u001b[0m     \u001b[38;5;28;01mif\u001b[39;00m newexpr \u001b[38;5;241m!=\u001b[39m expr:\n\u001b[1;32m   3614\u001b[0m         \u001b[38;5;28;01mreturn\u001b[39;00m (newexpr, \u001b[38;5;28;01mTrue\u001b[39;00m)\n",
      "File \u001b[0;32m/usr/lib/python3.12/site-packages/sympy/core/mul.py:948\u001b[0m, in \u001b[0;36mMul._eval_expand_mul\u001b[0;34m(self, **hints)\u001b[0m\n\u001b[1;32m    946\u001b[0m \u001b[38;5;28;01mif\u001b[39;00m sums:\n\u001b[1;32m    947\u001b[0m     deep \u001b[38;5;241m=\u001b[39m hints\u001b[38;5;241m.\u001b[39mget(\u001b[38;5;124m\"\u001b[39m\u001b[38;5;124mdeep\u001b[39m\u001b[38;5;124m\"\u001b[39m, \u001b[38;5;28;01mFalse\u001b[39;00m)\n\u001b[0;32m--> 948\u001b[0m     terms \u001b[38;5;241m=\u001b[39m \u001b[38;5;28;43mself\u001b[39;49m\u001b[38;5;241;43m.\u001b[39;49m\u001b[43mfunc\u001b[49m\u001b[38;5;241;43m.\u001b[39;49m\u001b[43m_expandsums\u001b[49m\u001b[43m(\u001b[49m\u001b[43msums\u001b[49m\u001b[43m)\u001b[49m\n\u001b[1;32m    949\u001b[0m     args \u001b[38;5;241m=\u001b[39m []\n\u001b[1;32m    950\u001b[0m     \u001b[38;5;28;01mfor\u001b[39;00m term \u001b[38;5;129;01min\u001b[39;00m terms:\n",
      "File \u001b[0;32m/usr/lib/python3.12/site-packages/sympy/core/mul.py:912\u001b[0m, in \u001b[0;36mMul._expandsums\u001b[0;34m(sums)\u001b[0m\n\u001b[1;32m    909\u001b[0m left \u001b[38;5;241m=\u001b[39m Mul\u001b[38;5;241m.\u001b[39m_expandsums(sums[:L\u001b[38;5;241m/\u001b[39m\u001b[38;5;241m/\u001b[39m\u001b[38;5;241m2\u001b[39m])\n\u001b[1;32m    910\u001b[0m right \u001b[38;5;241m=\u001b[39m Mul\u001b[38;5;241m.\u001b[39m_expandsums(sums[L\u001b[38;5;241m/\u001b[39m\u001b[38;5;241m/\u001b[39m\u001b[38;5;241m2\u001b[39m:])\n\u001b[0;32m--> 912\u001b[0m terms \u001b[38;5;241m=\u001b[39m [\u001b[43mMul\u001b[49m\u001b[43m(\u001b[49m\u001b[43ma\u001b[49m\u001b[43m,\u001b[49m\u001b[43m \u001b[49m\u001b[43mb\u001b[49m\u001b[43m)\u001b[49m \u001b[38;5;28;01mfor\u001b[39;00m a \u001b[38;5;129;01min\u001b[39;00m left \u001b[38;5;28;01mfor\u001b[39;00m b \u001b[38;5;129;01min\u001b[39;00m right]\n\u001b[1;32m    913\u001b[0m added \u001b[38;5;241m=\u001b[39m Add(\u001b[38;5;241m*\u001b[39mterms)\n\u001b[1;32m    914\u001b[0m \u001b[38;5;28;01mreturn\u001b[39;00m Add\u001b[38;5;241m.\u001b[39mmake_args(added)\n",
      "File \u001b[0;32m/usr/lib/python3.12/site-packages/sympy/core/cache.py:72\u001b[0m, in \u001b[0;36m__cacheit.<locals>.func_wrapper.<locals>.wrapper\u001b[0;34m(*args, **kwargs)\u001b[0m\n\u001b[1;32m     69\u001b[0m \u001b[38;5;129m@wraps\u001b[39m(func)\n\u001b[1;32m     70\u001b[0m \u001b[38;5;28;01mdef\u001b[39;00m \u001b[38;5;21mwrapper\u001b[39m(\u001b[38;5;241m*\u001b[39margs, \u001b[38;5;241m*\u001b[39m\u001b[38;5;241m*\u001b[39mkwargs):\n\u001b[1;32m     71\u001b[0m     \u001b[38;5;28;01mtry\u001b[39;00m:\n\u001b[0;32m---> 72\u001b[0m         retval \u001b[38;5;241m=\u001b[39m \u001b[43mcfunc\u001b[49m\u001b[43m(\u001b[49m\u001b[38;5;241;43m*\u001b[39;49m\u001b[43margs\u001b[49m\u001b[43m,\u001b[49m\u001b[43m \u001b[49m\u001b[38;5;241;43m*\u001b[39;49m\u001b[38;5;241;43m*\u001b[39;49m\u001b[43mkwargs\u001b[49m\u001b[43m)\u001b[49m\n\u001b[1;32m     73\u001b[0m     \u001b[38;5;28;01mexcept\u001b[39;00m \u001b[38;5;167;01mTypeError\u001b[39;00m \u001b[38;5;28;01mas\u001b[39;00m e:\n\u001b[1;32m     74\u001b[0m         \u001b[38;5;28;01mif\u001b[39;00m \u001b[38;5;129;01mnot\u001b[39;00m e\u001b[38;5;241m.\u001b[39margs \u001b[38;5;129;01mor\u001b[39;00m \u001b[38;5;129;01mnot\u001b[39;00m e\u001b[38;5;241m.\u001b[39margs[\u001b[38;5;241m0\u001b[39m]\u001b[38;5;241m.\u001b[39mstartswith(\u001b[38;5;124m'\u001b[39m\u001b[38;5;124munhashable type:\u001b[39m\u001b[38;5;124m'\u001b[39m):\n",
      "File \u001b[0;32m/usr/lib/python3.12/site-packages/sympy/core/operations.py:98\u001b[0m, in \u001b[0;36mAssocOp.__new__\u001b[0;34m(cls, evaluate, _sympify, *args)\u001b[0m\n\u001b[1;32m     95\u001b[0m \u001b[38;5;28;01mif\u001b[39;00m \u001b[38;5;28mlen\u001b[39m(args) \u001b[38;5;241m==\u001b[39m \u001b[38;5;241m1\u001b[39m:\n\u001b[1;32m     96\u001b[0m     \u001b[38;5;28;01mreturn\u001b[39;00m args[\u001b[38;5;241m0\u001b[39m]\n\u001b[0;32m---> 98\u001b[0m c_part, nc_part, order_symbols \u001b[38;5;241m=\u001b[39m \u001b[38;5;28;43mcls\u001b[39;49m\u001b[38;5;241;43m.\u001b[39;49m\u001b[43mflatten\u001b[49m\u001b[43m(\u001b[49m\u001b[43margs\u001b[49m\u001b[43m)\u001b[49m\n\u001b[1;32m     99\u001b[0m is_commutative \u001b[38;5;241m=\u001b[39m \u001b[38;5;129;01mnot\u001b[39;00m nc_part\n\u001b[1;32m    100\u001b[0m obj \u001b[38;5;241m=\u001b[39m \u001b[38;5;28mcls\u001b[39m\u001b[38;5;241m.\u001b[39m_from_args(c_part \u001b[38;5;241m+\u001b[39m nc_part, is_commutative)\n",
      "File \u001b[0;32m/usr/lib/python3.12/site-packages/sympy/core/mul.py:480\u001b[0m, in \u001b[0;36mMul.flatten\u001b[0;34m(cls, seq)\u001b[0m\n\u001b[1;32m    477\u001b[0m     \u001b[38;5;28;01mreturn\u001b[39;00m new_c_powers\n\u001b[1;32m    479\u001b[0m \u001b[38;5;66;03m# in c_powers\u001b[39;00m\n\u001b[0;32m--> 480\u001b[0m c_powers \u001b[38;5;241m=\u001b[39m \u001b[43m_gather\u001b[49m\u001b[43m(\u001b[49m\u001b[43mc_powers\u001b[49m\u001b[43m)\u001b[49m\n\u001b[1;32m    482\u001b[0m \u001b[38;5;66;03m# and in num_exp\u001b[39;00m\n\u001b[1;32m    483\u001b[0m num_exp \u001b[38;5;241m=\u001b[39m _gather(num_exp)\n",
      "File \u001b[0;32m/usr/lib/python3.12/site-packages/sympy/core/mul.py:473\u001b[0m, in \u001b[0;36mMul.flatten.<locals>._gather\u001b[0;34m(c_powers)\u001b[0m\n\u001b[1;32m    471\u001b[0m \u001b[38;5;28;01mfor\u001b[39;00m b, d \u001b[38;5;129;01min\u001b[39;00m common_b\u001b[38;5;241m.\u001b[39mitems():\n\u001b[1;32m    472\u001b[0m     \u001b[38;5;28;01mfor\u001b[39;00m di, li \u001b[38;5;129;01min\u001b[39;00m d\u001b[38;5;241m.\u001b[39mitems():\n\u001b[0;32m--> 473\u001b[0m         \u001b[43md\u001b[49m\u001b[43m[\u001b[49m\u001b[43mdi\u001b[49m\u001b[43m]\u001b[49m \u001b[38;5;241m=\u001b[39m Add(\u001b[38;5;241m*\u001b[39mli)\n\u001b[1;32m    474\u001b[0m new_c_powers \u001b[38;5;241m=\u001b[39m []\n\u001b[1;32m    475\u001b[0m \u001b[38;5;28;01mfor\u001b[39;00m b, e \u001b[38;5;129;01min\u001b[39;00m common_b\u001b[38;5;241m.\u001b[39mitems():\n",
      "File \u001b[0;32m/usr/lib/python3.12/site-packages/sympy/core/numbers.py:1981\u001b[0m, in \u001b[0;36mInteger.__hash__\u001b[0;34m(self)\u001b[0m\n\u001b[1;32m   1980\u001b[0m \u001b[38;5;28;01mdef\u001b[39;00m \u001b[38;5;21m__hash__\u001b[39m(\u001b[38;5;28mself\u001b[39m):\n\u001b[0;32m-> 1981\u001b[0m     \u001b[38;5;28;01mreturn\u001b[39;00m \u001b[38;5;28;43mhash\u001b[39;49m\u001b[43m(\u001b[49m\u001b[38;5;28;43mself\u001b[39;49m\u001b[38;5;241;43m.\u001b[39;49m\u001b[43mp\u001b[49m\u001b[43m)\u001b[49m\n",
      "\u001b[0;31mKeyboardInterrupt\u001b[0m: "
     ]
    }
   ],
   "source": [
    "InvLow.pinv()"
   ]
  },
  {
   "cell_type": "code",
   "execution_count": null,
   "metadata": {},
   "outputs": [],
   "source": [
    "I"
   ]
  },
  {
   "cell_type": "code",
   "execution_count": 191,
   "metadata": {},
   "outputs": [],
   "source": [
    "ForwardFilled = InvFilled.pinv()"
   ]
  },
  {
   "cell_type": "code",
   "execution_count": 196,
   "metadata": {},
   "outputs": [
    {
     "data": {
      "text/latex": [
       "$\\displaystyle \\left[\\begin{matrix}0.34252531313661 E_{1} - 0.325191865507574 E_{2} - 0.0043806349462474 E_{p1} + 0.0109358296859557 E_{p2} - 0.316966356723613 E_{p3}\\\\- 0.173176899493737 E_{1} - 0.15338525383731 E_{2} + 0.415864495720634 E_{p1} - 0.53936436461674 E_{p2} + 0.0249794940061989 E_{p3}\\\\- 2.1713338117977 E_{1} - 1.92318137616368 E_{2} + 1.03479565659387 E_{p1} - 2.58326685495018 E_{p2} - 3.86621494717807 E_{p3}\\end{matrix}\\right]$"
      ],
      "text/plain": [
       "Matrix([\n",
       "[0.34252531313661*E_1 - 0.325191865507574*E_2 - 0.0043806349462474*E_p1 + 0.0109358296859557*E_p2 - 0.316966356723613*E_p3],\n",
       "[ -0.173176899493737*E_1 - 0.15338525383731*E_2 + 0.415864495720634*E_p1 - 0.53936436461674*E_p2 + 0.0249794940061989*E_p3],\n",
       "[      -2.1713338117977*E_1 - 1.92318137616368*E_2 + 1.03479565659387*E_p1 - 2.58326685495018*E_p2 - 3.86621494717807*E_p3]])"
      ]
     },
     "execution_count": 196,
     "metadata": {},
     "output_type": "execute_result"
    }
   ],
   "source": [
    "ForwardFilled * Matrix(['E_1','E_p1','E_2','E_p2', 'E_p3', 'E_p3'])"
   ]
  },
  {
   "cell_type": "code",
   "execution_count": 213,
   "metadata": {},
   "outputs": [],
   "source": [
    "InvReducedFilled = Matrix([InvFilled.row(r) for r in range(0,InvFilled.rows,2)])"
   ]
  },
  {
   "cell_type": "code",
   "execution_count": 212,
   "metadata": {},
   "outputs": [
    {
     "data": {
      "text/latex": [
       "$\\displaystyle \\left[\\begin{matrix}1 & 0 & -0.06985\\\\0 & 1 & -0.04445\\\\-1 & 0 & -0.06985\\\\0 & -1 & -0.008382\\\\0 & 1 & -0.2032\\\\-1 & 0 & -0.0127\\end{matrix}\\right]$"
      ],
      "text/plain": [
       "Matrix([\n",
       "[ 1,  0,  -0.06985],\n",
       "[ 0,  1,  -0.04445],\n",
       "[-1,  0,  -0.06985],\n",
       "[ 0, -1, -0.008382],\n",
       "[ 0,  1,   -0.2032],\n",
       "[-1,  0,   -0.0127]])"
      ]
     },
     "execution_count": 212,
     "metadata": {},
     "output_type": "execute_result"
    }
   ],
   "source": [
    "InvFilled"
   ]
  },
  {
   "cell_type": "code",
   "execution_count": 245,
   "metadata": {},
   "outputs": [
    {
     "data": {
      "text/latex": [
       "$\\displaystyle \\left[\\begin{matrix}2.0\\\\1.0\\\\0\\end{matrix}\\right]$"
      ],
      "text/plain": [
       "Matrix([\n",
       "[2.0],\n",
       "[1.0],\n",
       "[  0]])"
      ]
     },
     "execution_count": 245,
     "metadata": {},
     "output_type": "execute_result"
    }
   ],
   "source": [
    "res = InvReducedFilled.pinv() * Matrix([2,-2,1])\n",
    "res"
   ]
  },
  {
   "cell_type": "code",
   "execution_count": 228,
   "metadata": {},
   "outputs": [
    {
     "data": {
      "text/latex": [
       "$\\displaystyle \\left[\\begin{matrix}2.0\\\\-0.136363636363636\\\\-1.0\\\\0.514545454545454\\\\1.0\\\\-1.40909090909091\\end{matrix}\\right]$"
      ],
      "text/plain": [
       "Matrix([\n",
       "[               2.0],\n",
       "[-0.136363636363636],\n",
       "[              -1.0],\n",
       "[ 0.514545454545454],\n",
       "[               1.0],\n",
       "[ -1.40909090909091]])"
      ]
     },
     "execution_count": 228,
     "metadata": {},
     "output_type": "execute_result"
    }
   ],
   "source": [
    "InvFilled * res"
   ]
  },
  {
   "cell_type": "markdown",
   "metadata": {},
   "source": [
    "# Now for real\n",
    "\n",
    "Given Pod Positions $\\set{P_1, \\cdots, P_n}$ where $P_i = (p_{xi}, p_{yi}, p_{\\theta i})$\n",
    "\n",
    "Imagine the position of a pod on the robot just as a point, not as a wheel\n",
    "\n",
    "Can imagine that each pod has like the optical tracking sensor on it that can show both x and y motion\n",
    "\n",
    "Given a $(\\Delta x, \\Delta y, \\Delta \\theta)$ of the robot frame, that point will move to the following"
   ]
  },
  {
   "cell_type": "code",
   "execution_count": 248,
   "metadata": {},
   "outputs": [
    {
     "name": "stdout",
     "output_type": "stream",
     "text": [
      "The matrix that when multiplied by the motion of the sensor measurement gives a measurement of the robot frame, gives\n"
     ]
    },
    {
     "data": {
      "text/latex": [
       "$\\displaystyle \\left[\\begin{matrix}1 & 0 & - p_{y}\\\\0 & 1 & p_{x}\\end{matrix}\\right]$"
      ],
      "text/plain": [
       "Matrix([\n",
       "[1, 0, -p_y],\n",
       "[0, 1,  p_x]])"
      ]
     },
     "metadata": {},
     "output_type": "display_data"
    }
   ],
   "source": [
    "print(\"The matrix that when multiplied by the motion of the sensor measurement gives a measurement of the robot frame, gives\")\n",
    "display(body_twist_to_pod_motion_matrix)\n"
   ]
  },
  {
   "cell_type": "markdown",
   "metadata": {},
   "source": [
    "The x and y components are the identity. If you move the pod forward 1 unit with no rotation, the robot will move forward one unit\n",
    "\n",
    "The rotational component is a little trig but im gonna skip that for now bc timelines. WPI lib agrees with me"
   ]
  },
  {
   "cell_type": "markdown",
   "metadata": {},
   "source": [
    "But, what if our points have a rotation (optical tracking sensor attached at an angle). What we would measure for an x motion for example would register as a y motion if we were rotated by 90 degrees.\n",
    "\n",
    "To account for this, we rotate our measurements by the rotation of the sensor"
   ]
  },
  {
   "cell_type": "code",
   "execution_count": 241,
   "metadata": {},
   "outputs": [
    {
     "data": {
      "text/latex": [
       "$\\displaystyle \\left[\\begin{matrix}\\cos{\\left(p_{\\theta} \\right)} & - \\sin{\\left(p_{\\theta} \\right)} & - p_{x} \\sin{\\left(p_{\\theta} \\right)} - p_{y} \\cos{\\left(p_{\\theta} \\right)}\\\\\\sin{\\left(p_{\\theta} \\right)} & \\cos{\\left(p_{\\theta} \\right)} & p_{x} \\cos{\\left(p_{\\theta} \\right)} - p_{y} \\sin{\\left(p_{\\theta} \\right)}\\end{matrix}\\right]$"
      ],
      "text/plain": [
       "Matrix([\n",
       "[cos(p_\\theta), -sin(p_\\theta), -p_x*sin(p_\\theta) - p_y*cos(p_\\theta)],\n",
       "[sin(p_\\theta),  cos(p_\\theta),  p_x*cos(p_\\theta) - p_y*sin(p_\\theta)]])"
      ]
     },
     "execution_count": 241,
     "metadata": {},
     "output_type": "execute_result"
    }
   ],
   "source": [
    "body_twist_to_pod_wheel_motion_matrix"
   ]
  },
  {
   "cell_type": "markdown",
   "metadata": {},
   "source": [
    "Rather than reading the identity for x,y motions, we read the rotated identity. Rotation is rotated as well"
   ]
  },
  {
   "cell_type": "markdown",
   "metadata": {},
   "source": [
    "If we have 3 motion tracking sensors, we can make a big matrix that gives the x and y measurements of each of them"
   ]
  },
  {
   "cell_type": "code",
   "execution_count": 242,
   "metadata": {},
   "outputs": [
    {
     "data": {
      "text/latex": [
       "$\\displaystyle \\left[\\begin{matrix}\\cos{\\left(p_{\\theta1} \\right)} & - \\sin{\\left(p_{\\theta1} \\right)} & - p_{x1} \\sin{\\left(p_{\\theta1} \\right)} - p_{y1} \\cos{\\left(p_{\\theta1} \\right)}\\\\\\sin{\\left(p_{\\theta1} \\right)} & \\cos{\\left(p_{\\theta1} \\right)} & p_{x1} \\cos{\\left(p_{\\theta1} \\right)} - p_{y1} \\sin{\\left(p_{\\theta1} \\right)}\\\\\\cos{\\left(p_{\\theta2} \\right)} & - \\sin{\\left(p_{\\theta2} \\right)} & - p_{x2} \\sin{\\left(p_{\\theta2} \\right)} - p_{y2} \\cos{\\left(p_{\\theta2} \\right)}\\\\\\sin{\\left(p_{\\theta2} \\right)} & \\cos{\\left(p_{\\theta2} \\right)} & p_{x2} \\cos{\\left(p_{\\theta2} \\right)} - p_{y2} \\sin{\\left(p_{\\theta2} \\right)}\\\\\\cos{\\left(p_{\\theta3} \\right)} & - \\sin{\\left(p_{\\theta3} \\right)} & - p_{x3} \\sin{\\left(p_{\\theta3} \\right)} - p_{y3} \\cos{\\left(p_{\\theta3} \\right)}\\\\\\sin{\\left(p_{\\theta3} \\right)} & \\cos{\\left(p_{\\theta3} \\right)} & p_{x3} \\cos{\\left(p_{\\theta3} \\right)} - p_{y3} \\sin{\\left(p_{\\theta3} \\right)}\\end{matrix}\\right]$"
      ],
      "text/plain": [
       "Matrix([\n",
       "[cos(p_\\theta1), -sin(p_\\theta1), -p_x1*sin(p_\\theta1) - p_y1*cos(p_\\theta1)],\n",
       "[sin(p_\\theta1),  cos(p_\\theta1),  p_x1*cos(p_\\theta1) - p_y1*sin(p_\\theta1)],\n",
       "[cos(p_\\theta2), -sin(p_\\theta2), -p_x2*sin(p_\\theta2) - p_y2*cos(p_\\theta2)],\n",
       "[sin(p_\\theta2),  cos(p_\\theta2),  p_x2*cos(p_\\theta2) - p_y2*sin(p_\\theta2)],\n",
       "[cos(p_\\theta3), -sin(p_\\theta3), -p_x3*sin(p_\\theta3) - p_y3*cos(p_\\theta3)],\n",
       "[sin(p_\\theta3),  cos(p_\\theta3),  p_x3*cos(p_\\theta3) - p_y3*sin(p_\\theta3)]])"
      ]
     },
     "execution_count": 242,
     "metadata": {},
     "output_type": "execute_result"
    }
   ],
   "source": [
    "Matrix([\n",
    "    body_twist_to_pod_wheel_motion_matrix.subs('p_x', 'p_x1').subs('p_y','p_y1').subs(symbols('p_\\\\theta'), symbols('p_\\\\theta1')),\n",
    "    body_twist_to_pod_wheel_motion_matrix.subs('p_x', 'p_x2').subs('p_y','p_y2').subs(symbols('p_\\\\theta'), symbols('p_\\\\theta2')),\n",
    "    body_twist_to_pod_wheel_motion_matrix.subs('p_x', 'p_x3').subs('p_y','p_y3').subs(symbols('p_\\\\theta'), symbols('p_\\\\theta3'))])"
   ]
  },
  {
   "cell_type": "markdown",
   "metadata": {},
   "source": []
  },
  {
   "cell_type": "code",
   "execution_count": 255,
   "metadata": {},
   "outputs": [],
   "source": [
    "Conv = Matrix([\n",
    "    body_twist_to_pod_wheel_motion_matrix.subs('p_x', 'p_x1').subs('p_y','p_y1').subs(symbols('p_\\\\theta'), symbols('p_\\\\theta1')),\n",
    "    body_twist_to_pod_wheel_motion_matrix.subs('p_x', 'p_x2').subs('p_y','p_y2').subs(symbols('p_\\\\theta'), symbols('p_\\\\theta2')),\n",
    "    body_twist_to_pod_wheel_motion_matrix.subs('p_x', 'p_x3').subs('p_y','p_y3').subs(symbols('p_\\\\theta'), symbols('p_\\\\theta3'))]) \n"
   ]
  },
  {
   "cell_type": "markdown",
   "metadata": {},
   "source": [
    "Now, since we have wheels instead of optical tracking sensors, we lose an axis. Since we've already rotated, lets say our wheel is setup so that its measuring what the x axis of the abstract optical sensor is. the y axis just causes the rollers of the omni wheel to spin and no measurement is mearured.\n",
    "\n",
    "In doing this, we lose half our measurements but whatevs if we have 3 wheels we have as many degrees of freedom as we do sensors"
   ]
  },
  {
   "cell_type": "code",
   "execution_count": 258,
   "metadata": {},
   "outputs": [
    {
     "data": {
      "text/latex": [
       "$\\displaystyle \\left[\\begin{matrix}\\cos{\\left(p_{\\theta1} \\right)} & - \\sin{\\left(p_{\\theta1} \\right)} & - p_{x1} \\sin{\\left(p_{\\theta1} \\right)} - p_{y1} \\cos{\\left(p_{\\theta1} \\right)}\\\\\\cos{\\left(p_{\\theta2} \\right)} & - \\sin{\\left(p_{\\theta2} \\right)} & - p_{x2} \\sin{\\left(p_{\\theta2} \\right)} - p_{y2} \\cos{\\left(p_{\\theta2} \\right)}\\\\\\cos{\\left(p_{\\theta3} \\right)} & - \\sin{\\left(p_{\\theta3} \\right)} & - p_{x3} \\sin{\\left(p_{\\theta3} \\right)} - p_{y3} \\cos{\\left(p_{\\theta3} \\right)}\\end{matrix}\\right]$"
      ],
      "text/plain": [
       "Matrix([\n",
       "[cos(p_\\theta1), -sin(p_\\theta1), -p_x1*sin(p_\\theta1) - p_y1*cos(p_\\theta1)],\n",
       "[cos(p_\\theta2), -sin(p_\\theta2), -p_x2*sin(p_\\theta2) - p_y2*cos(p_\\theta2)],\n",
       "[cos(p_\\theta3), -sin(p_\\theta3), -p_x3*sin(p_\\theta3) - p_y3*cos(p_\\theta3)]])"
      ]
     },
     "execution_count": 258,
     "metadata": {},
     "output_type": "execute_result"
    }
   ],
   "source": [
    "Reduced = Matrix([Conv.row(i) for i in range(0,6, 2)])\n",
    "Reduced"
   ]
  },
  {
   "cell_type": "markdown",
   "metadata": {},
   "source": [
    "We drop the rows in the matrix that correspond to those y axis measurements cuz we can never know them.\n",
    "\n",
    "Now, if we multiply by the encoder deltas (distance, not angles), we get a delta of the frame.\n",
    "\n",
    "If we were to take the inverse of the non-reduced matrix then multiply by the delta of the frame, we would recover but the encoder deltas we put in as well as the components that were perpindicular to the omni wheel that we couldnt originally measure"
   ]
  },
  {
   "cell_type": "code",
   "execution_count": 261,
   "metadata": {},
   "outputs": [
    {
     "data": {
      "text/latex": [
       "$\\displaystyle \\left[\\begin{matrix}E_{1} \\cos{\\left(p_{\\theta1} \\right)} - E_{2} \\sin{\\left(p_{\\theta1} \\right)} + E_{3} \\left(- p_{x1} \\sin{\\left(p_{\\theta1} \\right)} - p_{y1} \\cos{\\left(p_{\\theta1} \\right)}\\right)\\\\E_{1} \\cos{\\left(p_{\\theta2} \\right)} - E_{2} \\sin{\\left(p_{\\theta2} \\right)} + E_{3} \\left(- p_{x2} \\sin{\\left(p_{\\theta2} \\right)} - p_{y2} \\cos{\\left(p_{\\theta2} \\right)}\\right)\\\\E_{1} \\cos{\\left(p_{\\theta3} \\right)} - E_{2} \\sin{\\left(p_{\\theta3} \\right)} + E_{3} \\left(- p_{x3} \\sin{\\left(p_{\\theta3} \\right)} - p_{y3} \\cos{\\left(p_{\\theta3} \\right)}\\right)\\end{matrix}\\right] = \\left[\\begin{matrix}d_{x}\\\\d_{y}\\\\d_{\\theta}\\end{matrix}\\right]$"
      ],
      "text/plain": [
       "Eq(Matrix([\n",
       "[E_1*cos(p_\\theta1) - E_2*sin(p_\\theta1) + E_3*(-p_x1*sin(p_\\theta1) - p_y1*cos(p_\\theta1))],\n",
       "[E_1*cos(p_\\theta2) - E_2*sin(p_\\theta2) + E_3*(-p_x2*sin(p_\\theta2) - p_y2*cos(p_\\theta2))],\n",
       "[E_1*cos(p_\\theta3) - E_2*sin(p_\\theta3) + E_3*(-p_x3*sin(p_\\theta3) - p_y3*cos(p_\\theta3))]]), Matrix([\n",
       "[     d_x],\n",
       "[     d_y],\n",
       "[d_\\theta]]))"
      ]
     },
     "execution_count": 261,
     "metadata": {},
     "output_type": "execute_result"
    }
   ],
   "source": [
    "sympy.Eq(Reduced * Matrix(['E_1', 'E_2', 'E_3']), Matrix(['d_x', 'd_y', symbols('d_\\\\theta')]) )"
   ]
  },
  {
   "cell_type": "markdown",
   "metadata": {},
   "source": [
    "Using encoder positions and angles from software robot"
   ]
  },
  {
   "cell_type": "code",
   "execution_count": 291,
   "metadata": {},
   "outputs": [
    {
     "data": {
      "text/latex": [
       "$\\displaystyle \\left[\\begin{matrix}1 & 0 & -0.06985\\\\-1 & 0 & -0.06985\\\\0 & 1 & -0.2032\\end{matrix}\\right]$"
      ],
      "text/plain": [
       "Matrix([\n",
       "[ 1, 0, -0.06985],\n",
       "[-1, 0, -0.06985],\n",
       "[ 0, 1,  -0.2032]])"
      ]
     },
     "execution_count": 291,
     "metadata": {},
     "output_type": "execute_result"
    }
   ],
   "source": [
    "InvReducedFilled"
   ]
  },
  {
   "cell_type": "code",
   "execution_count": 304,
   "metadata": {},
   "outputs": [
    {
     "name": "stdout",
     "output_type": "stream",
     "text": [
      "Robot drives forward 0.01m, doesnt rotate or move crabwise, encoder readings (distance):\n"
     ]
    },
    {
     "data": {
      "text/latex": [
       "$\\displaystyle \\left[\\begin{matrix}0.01\\\\-0.01\\\\0\\end{matrix}\\right]$"
      ],
      "text/plain": [
       "Matrix([\n",
       "[ 0.01],\n",
       "[-0.01],\n",
       "[    0]])"
      ]
     },
     "metadata": {},
     "output_type": "display_data"
    },
    {
     "name": "stdout",
     "output_type": "stream",
     "text": [
      "When multiplied\n"
     ]
    },
    {
     "data": {
      "text/latex": [
       "$\\displaystyle \\left[\\begin{matrix}0.01\\\\0\\\\0\\end{matrix}\\right]$"
      ],
      "text/plain": [
       "Matrix([\n",
       "[0.01],\n",
       "[   0],\n",
       "[   0]])"
      ]
     },
     "metadata": {},
     "output_type": "display_data"
    }
   ],
   "source": [
    "print(\"Robot drives forward 0.01m, doesnt rotate or move crabwise, encoder readings (distance):\")\n",
    "display(Matrix([0.01,-0.01,0]))\n",
    "print(\"When multiplied\")\n",
    "display(InvReducedFilled.pinv() * Matrix([0.01, -0.01, 0]))\n"
   ]
  },
  {
   "cell_type": "code",
   "execution_count": 301,
   "metadata": {},
   "outputs": [
    {
     "data": {
      "text/latex": [
       "$\\displaystyle \\left[\\begin{matrix}1.0\\\\1.04083408558608 \\cdot 10^{-17}\\\\1.66533453693773 \\cdot 10^{-16}\\end{matrix}\\right]$"
      ],
      "text/plain": [
       "Matrix([\n",
       "[                 1.0],\n",
       "[1.04083408558608e-17],\n",
       "[1.66533453693773e-16]])"
      ]
     },
     "execution_count": 301,
     "metadata": {},
     "output_type": "execute_result"
    }
   ],
   "source": [
    "InvFilled.pinv() * Matrix([1,0,-1,0,0,-1])"
   ]
  },
  {
   "cell_type": "code",
   "execution_count": 303,
   "metadata": {},
   "outputs": [
    {
     "data": {
      "text/latex": [
       "$\\displaystyle \\left[\\begin{matrix}1.0\\\\1.0\\\\0\\end{matrix}\\right]$"
      ],
      "text/plain": [
       "Matrix([\n",
       "[1.0],\n",
       "[1.0],\n",
       "[  0]])"
      ]
     },
     "execution_count": 303,
     "metadata": {},
     "output_type": "execute_result"
    }
   ],
   "source": [
    "InvReducedFilled.pinv() * Matrix([1,-1,1])"
   ]
  },
  {
   "cell_type": "code",
   "execution_count": null,
   "metadata": {},
   "outputs": [],
   "source": [
    "Inv"
   ]
  },
  {
   "cell_type": "code",
   "execution_count": 334,
   "metadata": {},
   "outputs": [],
   "source": [
    "pos = Matrix([0,0,0])\n",
    "poss = [pos]\n",
    "for i in range(1000):\n",
    "    delt = InvReducedFilled.pinv() * Matrix([1.001,-1, 0.0011])\n",
    "    pdelt = rotation_matrix2d(pos[2]) * Matrix([delt[0],delt[1]]) \n",
    "    delt[0] = pdelt[0]\n",
    "    delt[1] = pdelt[1]\n",
    "    pos += delt \n",
    "    poss.append(pos)"
   ]
  },
  {
   "cell_type": "code",
   "execution_count": 321,
   "metadata": {},
   "outputs": [],
   "source": [
    "import matplotlib.pyplot as plt"
   ]
  },
  {
   "cell_type": "code",
   "execution_count": 335,
   "metadata": {},
   "outputs": [
    {
     "data": {
      "image/png": "[encoded data removed]",
      "text/plain": [
       "<Figure size 640x480 with 1 Axes>"
      ]
     },
     "metadata": {},
     "output_type": "display_data"
    }
   ],
   "source": [
    "plt.plot([v[0] for v in poss], [v[1] for v in poss])\n",
    "ax = plt.gca()\n",
    "ax.set_aspect('equal', adjustable='box')"
   ]
  }
 ],
 "metadata": {
  "kernelspec": {
   "display_name": "Python 3",
   "language": "python",
   "name": "python3"
  },
  "language_info": {
   "codemirror_mode": {
    "name": "ipython",
    "version": 3
   },
   "file_extension": ".py",
   "mimetype": "text/x-python",
   "name": "python",
   "nbconvert_exporter": "python",
   "pygments_lexer": "ipython3",
   "version": "3.12.6"
  }
 },
 "nbformat": 4,
 "nbformat_minor": 2
}
