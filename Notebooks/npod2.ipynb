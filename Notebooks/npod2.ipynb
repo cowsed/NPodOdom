{
 "cells": [
  {
   "cell_type": "code",
   "execution_count": 66,
   "metadata": {},
   "outputs": [],
   "source": [
    "from collections import namedtuple\n",
    "import sympy\n",
    "from sympy import Matrix, det, symbols, sin, cos, pi\n",
    "from sympy.physics.units import speed_of_light, meter, second, convert_to, radian\n",
    "import IPython.display"
   ]
  },
  {
   "cell_type": "code",
   "execution_count": 79,
   "metadata": {},
   "outputs": [],
   "source": [
    "TrackingWheelCfg = namedtuple('TrackingWheelCfg', ['v', 'theta_rad', 'radius_meters'])\n",
    "\n",
    "Twist = namedtuple(\"Twist\", [\"dx\", \"dy\", \"dtheta\"])\n",
    "Pose = namedtuple(\"Pose\", [\"x\", \"y\", \"theta\"])"
   ]
  },
  {
   "cell_type": "code",
   "execution_count": 26,
   "metadata": {},
   "outputs": [],
   "source": [
    "    acfg1 = TrackingWheelCfg(Matrix([['v_x1'], ['v_y1']]) * meter, symbols('o_1') * radian, symbols('r_1')* meter)\n",
    "    acfg2 = TrackingWheelCfg(Matrix([['v_x2'], ['v_y2']]) * meter, symbols('o_2') * radian, symbols('r_2')* meter)\n",
    "    acfg3 = TrackingWheelCfg(Matrix([['v_x3'], ['v_y3']]) * meter, symbols('o_3') * radian, symbols('r_3')* meter)\n",
    "\n",
    "    cfg1 = TrackingWheelCfg(Matrix([-0.04445 * meter, 0.06985 * meter]), 0 * radian, 0.028297632 * meter)\n",
    "    cfg2 = TrackingWheelCfg(Matrix([0.008382 * meter, -0.06985 * meter]), pi * radian, 0.028297632 * meter)\n",
    "    cfg3 = TrackingWheelCfg(Matrix([-0.2032 * meter, -0.0127 * meter]), (3 * pi / 2) * radian, 0.028297632 * meter)"
   ]
  },
  {
   "cell_type": "code",
   "execution_count": 58,
   "metadata": {},
   "outputs": [],
   "source": [
    "def body_delta_to_pod_delta(body_delta: Twist, pod_position: Matrix) -> Matrix:\n",
    "    rot90ccw = Matrix([[0,-1],[1,0]])\n",
    "    t = rot90ccw * pod_position.normalized()\n",
    "    mag = pod_position.norm() * body_delta.dtheta\n",
    "    rotational_contribution = (t*mag ) / radian # / radian bc we're going from angle to distance\n",
    "    return Matrix([body_delta.dx, body_delta.dy]) + rotational_contribution"
   ]
  },
  {
   "cell_type": "code",
   "execution_count": 118,
   "metadata": {},
   "outputs": [
    {
     "data": {
      "text/latex": [
       "$\\displaystyle \\left[\\begin{matrix}- \\frac{d\\theta v_{y} \\text{m}}{\\text{rad}} + dx\\\\\\frac{d\\theta v_{x} \\text{m}}{\\text{rad}} + dy\\end{matrix}\\right]$"
      ],
      "text/plain": [
       "Matrix([\n",
       "[-meter*d\\theta*v_y/radian + dx],\n",
       "[ meter*d\\theta*v_x/radian + dy]])"
      ]
     },
     "execution_count": 118,
     "metadata": {},
     "output_type": "execute_result"
    }
   ],
   "source": [
    "body_delta_to_pod_delta(Twist(symbols('dx'),symbols('dy') , symbols('d\\\\theta')), Matrix(['v_x','v_y'])* meter)"
   ]
  },
  {
   "cell_type": "code",
   "execution_count": 127,
   "metadata": {},
   "outputs": [],
   "source": [
    "xyc = body_delta_to_pod_delta(Twist(symbols('C_dx'),symbols('C_dy'), symbols('C_d\\\\theta')), Matrix(['v_x','v_y'])* meter)"
   ]
  },
  {
   "cell_type": "code",
   "execution_count": 128,
   "metadata": {},
   "outputs": [],
   "source": [
    "def circ(radius):\n",
    "    return 2 * pi * radius"
   ]
  },
  {
   "cell_type": "code",
   "execution_count": 129,
   "metadata": {},
   "outputs": [],
   "source": [
    "def RotationToLinear(theta, radius):\n",
    "    return theta * radius"
   ]
  },
  {
   "cell_type": "code",
   "execution_count": 130,
   "metadata": {},
   "outputs": [],
   "source": [
    "xyc1 = xyc.subs('v_x', 'v_x1').subs('v_y', 'v_y1')\n",
    "xyc2 = xyc.subs('v_x', 'v_x2').subs('v_y', 'v_y2')\n",
    "xyc3 = xyc.subs('v_x', 'v_x3').subs('v_y', 'v_y3')"
   ]
  },
  {
   "cell_type": "code",
   "execution_count": 134,
   "metadata": {},
   "outputs": [],
   "source": [
    "XYCx3 = Matrix([xyc1.T, xyc2.T, xyc3.T])"
   ]
  },
  {
   "cell_type": "code",
   "execution_count": 140,
   "metadata": {},
   "outputs": [
    {
     "data": {
      "text/latex": [
       "$\\displaystyle \\left[\\begin{matrix}- \\frac{C_{d\\theta} v_{y1} \\text{m}}{\\text{rad}} + C_{dx} & \\frac{C_{d\\theta} v_{x1} \\text{m}}{\\text{rad}} + C_{dy}\\\\- \\frac{C_{d\\theta} v_{y2} \\text{m}}{\\text{rad}} + C_{dx} & \\frac{C_{d\\theta} v_{x2} \\text{m}}{\\text{rad}} + C_{dy}\\\\- \\frac{C_{d\\theta} v_{y3} \\text{m}}{\\text{rad}} + C_{dx} & \\frac{C_{d\\theta} v_{x3} \\text{m}}{\\text{rad}} + C_{dy}\\end{matrix}\\right]$"
      ],
      "text/plain": [
       "Matrix([\n",
       "[-meter*C_d\\theta*v_y1/radian + C_dx, meter*C_d\\theta*v_x1/radian + C_dy],\n",
       "[-meter*C_d\\theta*v_y2/radian + C_dx, meter*C_d\\theta*v_x2/radian + C_dy],\n",
       "[-meter*C_d\\theta*v_y3/radian + C_dx, meter*C_d\\theta*v_x3/radian + C_dy]])"
      ]
     },
     "execution_count": 140,
     "metadata": {},
     "output_type": "execute_result"
    }
   ],
   "source": [
    "XYCx3"
   ]
  },
  {
   "cell_type": "code",
   "execution_count": 150,
   "metadata": {},
   "outputs": [
    {
     "data": {
      "text/latex": [
       "$\\displaystyle \\left[\\begin{matrix}C_{dx}\\\\C_{dy}\\\\C_{d\\theta}\\end{matrix}\\right]$"
      ],
      "text/plain": [
       "Matrix([\n",
       "[     C_dx],\n",
       "[     C_dy],\n",
       "[C_d\\theta]])"
      ]
     },
     "execution_count": 150,
     "metadata": {},
     "output_type": "execute_result"
    }
   ],
   "source": [
    "ChassisDelta = Matrix([symbols('C_dx'), symbols('C_dy'), symbols('C_d\\\\theta')])\n",
    "ChassisDelta"
   ]
  },
  {
   "cell_type": "code",
   "execution_count": 152,
   "metadata": {},
   "outputs": [
    {
     "data": {
      "text/latex": [
       "$\\displaystyle \\left[\\begin{matrix}1 & 0 & - v_{y1}\\\\1 & 0 & - v_{y2}\\\\1 & 0 & - v_{y3}\\end{matrix}\\right]$"
      ],
      "text/plain": [
       "Matrix([\n",
       "[1, 0, -v_y1],\n",
       "[1, 0, -v_y2],\n",
       "[1, 0, -v_y3]])"
      ]
     },
     "execution_count": 152,
     "metadata": {},
     "output_type": "execute_result"
    }
   ],
   "source": [
    "Matrix([[1, 0, -symbols('v_y1')],[1, 0, -symbols('v_y2')],[1    , 0, -symbols('v_y3')]])"
   ]
  },
  {
   "cell_type": "code",
   "execution_count": 149,
   "metadata": {},
   "outputs": [
    {
     "data": {
      "text/latex": [
       "$\\displaystyle \\left[\\begin{matrix}C_{dx}\\\\C_{dy}\\\\C_{d\\theta}\\end{matrix}\\right]$"
      ],
      "text/plain": [
       "Matrix([\n",
       "[     C_dx],\n",
       "[     C_dy],\n",
       "[C_d\\theta]])"
      ]
     },
     "execution_count": 149,
     "metadata": {},
     "output_type": "execute_result"
    }
   ],
   "source": [
    "ChassisDelta"
   ]
  },
  {
   "cell_type": "code",
   "execution_count": 138,
   "metadata": {},
   "outputs": [
    {
     "data": {
      "text/latex": [
       "$\\displaystyle \\left[\\begin{matrix}\\frac{2 \\text{m}}{\\text{s}} & 0\\\\\\frac{2 \\text{m}}{\\text{s}} & 0\\\\\\frac{2 \\text{m}}{\\text{s}} & 0\\end{matrix}\\right]$"
      ],
      "text/plain": [
       "Matrix([\n",
       "[2*meter/second, 0],\n",
       "[2*meter/second, 0],\n",
       "[2*meter/second, 0]])"
      ]
     },
     "execution_count": 138,
     "metadata": {},
     "output_type": "execute_result"
    }
   ],
   "source": [
    "XYCx3 \\\n",
    "    .subs('C_dx', 2 * meter / second) \\\n",
    "    .subs('C_dy', 0) \\\n",
    "    .subs('C_d\\\\theta', 0)\n"
   ]
  },
  {
   "cell_type": "code",
   "execution_count": 154,
   "metadata": {},
   "outputs": [
    {
     "data": {
      "text/latex": [
       "$\\displaystyle \\left[\\begin{matrix}a x + b y + c z\\\\d x + e y + f z\\\\g x + h y + u z\\end{matrix}\\right]$"
      ],
      "text/plain": [
       "Matrix([\n",
       "[a*x + b*y + c*z],\n",
       "[d*x + e*y + f*z],\n",
       "[g*x + h*y + u*z]])"
      ]
     },
     "execution_count": 154,
     "metadata": {},
     "output_type": "execute_result"
    }
   ],
   "source": [
    "Matrix([['a','b','c'],['d','e','f'],['g','h','u']]) * Matrix(['x','y','z'])"
   ]
  },
  {
   "cell_type": "code",
   "execution_count": 166,
   "metadata": {},
   "outputs": [
    {
     "data": {
      "text/latex": [
       "$\\displaystyle \\left[\\begin{matrix}\\frac{x_{1} \\text{rad}}{\\text{m}} & \\frac{y_{1} \\text{rad}}{\\text{m}} & o_{1}\\\\\\frac{x_{2} \\text{rad}}{\\text{m}} & \\frac{y_{2} \\text{rad}}{\\text{m}} & o_{2}\\\\\\frac{x_{3} \\text{rad}}{\\text{m}} & \\frac{y_{3} \\text{rad}}{\\text{m}} & o_{3}\\end{matrix}\\right]$"
      ],
      "text/plain": [
       "Matrix([\n",
       "[radian*x_1/meter, radian*y_1/meter, o_1],\n",
       "[radian*x_2/meter, radian*y_2/meter, o_2],\n",
       "[radian*x_3/meter, radian*y_3/meter, o_3]])"
      ]
     },
     "execution_count": 166,
     "metadata": {},
     "output_type": "execute_result"
    }
   ],
   "source": [
    "m = Matrix([\n",
    "    [symbols('x_1') * radian / meter , symbols('y_1') * radian / meter , symbols('o_1') * radian / radian ],\n",
    "    [symbols('x_2') * radian / meter , symbols('y_2') * radian / meter , symbols('o_2') * radian / radian ],\n",
    "    [symbols('x_3') * radian / meter , symbols('y_3') * radian / meter , symbols('o_3') * radian / radian ]])\n",
    "m"
   ]
  },
  {
   "cell_type": "code",
   "execution_count": 178,
   "metadata": {},
   "outputs": [
    {
     "data": {
      "text/latex": [
       "$\\displaystyle \\left[\\begin{matrix}1 & 0\\\\1 & 0\\end{matrix}\\right]$"
      ],
      "text/plain": [
       "Matrix([\n",
       "[1, 0],\n",
       "[1, 0]])"
      ]
     },
     "execution_count": 178,
     "metadata": {},
     "output_type": "execute_result"
    }
   ],
   "source": [
    "Matrix([[1,0], [1,0]])"
   ]
  },
  {
   "cell_type": "code",
   "execution_count": 176,
   "metadata": {},
   "outputs": [
    {
     "data": {
      "text/latex": [
       "$\\displaystyle \\left[\\begin{matrix}- \\frac{35 e_{1} r_{2}}{- 1225 r_{1} - 1225 r_{2}} + \\frac{35 e_{2} r_{1}}{- 1225 r_{1} - 1225 r_{2}}\\\\\\frac{35 e_{1} r_{3}}{- 1225 r_{1} - 1225 r_{2}} + \\frac{35 e_{2} r_{3}}{- 1225 r_{1} - 1225 r_{2}} + \\frac{e_{3} \\left(- 35 r_{1} - 35 r_{2}\\right)}{- 1225 r_{1} - 1225 r_{2}}\\\\- \\frac{1225 e_{1}}{- 1225 r_{1} - 1225 r_{2}} - \\frac{1225 e_{2}}{- 1225 r_{1} - 1225 r_{2}}\\end{matrix}\\right]$"
      ],
      "text/plain": [
       "Matrix([\n",
       "[                                               -35*e_1*r_2/(-1225*r_1 - 1225*r_2) + 35*e_2*r_1/(-1225*r_1 - 1225*r_2)],\n",
       "[35*e_1*r_3/(-1225*r_1 - 1225*r_2) + 35*e_2*r_3/(-1225*r_1 - 1225*r_2) + e_3*(-35*r_1 - 35*r_2)/(-1225*r_1 - 1225*r_2)],\n",
       "[                                                   -1225*e_1/(-1225*r_1 - 1225*r_2) - 1225*e_2/(-1225*r_1 - 1225*r_2)]])"
      ]
     },
     "execution_count": 176,
     "metadata": {},
     "output_type": "execute_result"
    }
   ],
   "source": [
    "M.inverse_ADJ()*Matrix([\"e_1\", \"e_2\", \"e_3\"])"
   ]
  },
  {
   "cell_type": "code",
   "execution_count": 170,
   "metadata": {},
   "outputs": [
    {
     "data": {
      "text/latex": [
       "$\\displaystyle \\left[\\begin{matrix}\\frac{\\left(- o_{2} y_{3} + o_{3} y_{2}\\right) \\text{m}}{\\left(o_{1} x_{2} y_{3} - o_{1} x_{3} y_{2} - o_{2} x_{1} y_{3} + o_{2} x_{3} y_{1} + o_{3} x_{1} y_{2} - o_{3} x_{2} y_{1}\\right) \\text{rad}} & \\frac{\\left(o_{1} y_{3} - o_{3} y_{1}\\right) \\text{m}}{\\left(o_{1} x_{2} y_{3} - o_{1} x_{3} y_{2} - o_{2} x_{1} y_{3} + o_{2} x_{3} y_{1} + o_{3} x_{1} y_{2} - o_{3} x_{2} y_{1}\\right) \\text{rad}} & \\frac{\\left(- o_{1} y_{2} + o_{2} y_{1}\\right) \\text{m}}{\\left(o_{1} x_{2} y_{3} - o_{1} x_{3} y_{2} - o_{2} x_{1} y_{3} + o_{2} x_{3} y_{1} + o_{3} x_{1} y_{2} - o_{3} x_{2} y_{1}\\right) \\text{rad}}\\\\\\frac{\\left(o_{2} x_{3} - o_{3} x_{2}\\right) \\text{m}}{\\left(o_{1} x_{2} y_{3} - o_{1} x_{3} y_{2} - o_{2} x_{1} y_{3} + o_{2} x_{3} y_{1} + o_{3} x_{1} y_{2} - o_{3} x_{2} y_{1}\\right) \\text{rad}} & \\frac{\\left(- o_{1} x_{3} + o_{3} x_{1}\\right) \\text{m}}{\\left(o_{1} x_{2} y_{3} - o_{1} x_{3} y_{2} - o_{2} x_{1} y_{3} + o_{2} x_{3} y_{1} + o_{3} x_{1} y_{2} - o_{3} x_{2} y_{1}\\right) \\text{rad}} & \\frac{\\left(o_{1} x_{2} - o_{2} x_{1}\\right) \\text{m}}{\\left(o_{1} x_{2} y_{3} - o_{1} x_{3} y_{2} - o_{2} x_{1} y_{3} + o_{2} x_{3} y_{1} + o_{3} x_{1} y_{2} - o_{3} x_{2} y_{1}\\right) \\text{rad}}\\\\\\frac{x_{2} y_{3} - x_{3} y_{2}}{o_{1} x_{2} y_{3} - o_{1} x_{3} y_{2} - o_{2} x_{1} y_{3} + o_{2} x_{3} y_{1} + o_{3} x_{1} y_{2} - o_{3} x_{2} y_{1}} & \\frac{- x_{1} y_{3} + x_{3} y_{1}}{o_{1} x_{2} y_{3} - o_{1} x_{3} y_{2} - o_{2} x_{1} y_{3} + o_{2} x_{3} y_{1} + o_{3} x_{1} y_{2} - o_{3} x_{2} y_{1}} & \\frac{x_{1} y_{2} - x_{2} y_{1}}{o_{1} x_{2} y_{3} - o_{1} x_{3} y_{2} - o_{2} x_{1} y_{3} + o_{2} x_{3} y_{1} + o_{3} x_{1} y_{2} - o_{3} x_{2} y_{1}}\\end{matrix}\\right]$"
      ],
      "text/plain": [
       "Matrix([\n",
       "[meter*(-o_2*y_3 + o_3*y_2)/(radian*(o_1*x_2*y_3 - o_1*x_3*y_2 - o_2*x_1*y_3 + o_2*x_3*y_1 + o_3*x_1*y_2 - o_3*x_2*y_1)),  meter*(o_1*y_3 - o_3*y_1)/(radian*(o_1*x_2*y_3 - o_1*x_3*y_2 - o_2*x_1*y_3 + o_2*x_3*y_1 + o_3*x_1*y_2 - o_3*x_2*y_1)), meter*(-o_1*y_2 + o_2*y_1)/(radian*(o_1*x_2*y_3 - o_1*x_3*y_2 - o_2*x_1*y_3 + o_2*x_3*y_1 + o_3*x_1*y_2 - o_3*x_2*y_1))],\n",
       "[ meter*(o_2*x_3 - o_3*x_2)/(radian*(o_1*x_2*y_3 - o_1*x_3*y_2 - o_2*x_1*y_3 + o_2*x_3*y_1 + o_3*x_1*y_2 - o_3*x_2*y_1)), meter*(-o_1*x_3 + o_3*x_1)/(radian*(o_1*x_2*y_3 - o_1*x_3*y_2 - o_2*x_1*y_3 + o_2*x_3*y_1 + o_3*x_1*y_2 - o_3*x_2*y_1)),  meter*(o_1*x_2 - o_2*x_1)/(radian*(o_1*x_2*y_3 - o_1*x_3*y_2 - o_2*x_1*y_3 + o_2*x_3*y_1 + o_3*x_1*y_2 - o_3*x_2*y_1))],\n",
       "[                (x_2*y_3 - x_3*y_2)/(o_1*x_2*y_3 - o_1*x_3*y_2 - o_2*x_1*y_3 + o_2*x_3*y_1 + o_3*x_1*y_2 - o_3*x_2*y_1),                (-x_1*y_3 + x_3*y_1)/(o_1*x_2*y_3 - o_1*x_3*y_2 - o_2*x_1*y_3 + o_2*x_3*y_1 + o_3*x_1*y_2 - o_3*x_2*y_1),                 (x_1*y_2 - x_2*y_1)/(o_1*x_2*y_3 - o_1*x_3*y_2 - o_2*x_1*y_3 + o_2*x_3*y_1 + o_3*x_1*y_2 - o_3*x_2*y_1)]])"
      ]
     },
     "execution_count": 170,
     "metadata": {},
     "output_type": "execute_result"
    }
   ],
   "source": [
    "sympy.simplify(m.inverse_ADJ())"
   ]
  },
  {
   "cell_type": "markdown",
   "metadata": {},
   "source": [
    "## Updates\n",
    "\n",
    "We can measure 1 axis at a pod, leaving one as an unknown\n",
    "\n",
    "Swerve kinematics measure both"
   ]
  },
  {
   "cell_type": "code",
   "execution_count": null,
   "metadata": {},
   "outputs": [],
   "source": []
  }
 ],
 "metadata": {
  "kernelspec": {
   "display_name": "Python 3",
   "language": "python",
   "name": "python3"
  },
  "language_info": {
   "codemirror_mode": {
    "name": "ipython",
    "version": 3
   },
   "file_extension": ".py",
   "mimetype": "text/x-python",
   "name": "python",
   "nbconvert_exporter": "python",
   "pygments_lexer": "ipython3",
   "version": "3.12.6"
  }
 },
 "nbformat": 4,
 "nbformat_minor": 2
}
